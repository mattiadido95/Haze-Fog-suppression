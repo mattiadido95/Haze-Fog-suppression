{
  "nbformat": 4,
  "nbformat_minor": 0,
  "metadata": {
    "colab": {
      "provenance": [],
      "authorship_tag": "ABX9TyNtOpSLUgHdGWwByQUhhUan",
      "include_colab_link": true
    },
    "kernelspec": {
      "name": "python3",
      "display_name": "Python 3"
    },
    "language_info": {
      "name": "python"
    }
  },
  "cells": [
    {
      "cell_type": "markdown",
      "metadata": {
        "id": "view-in-github",
        "colab_type": "text"
      },
      "source": [
        "<a href=\"https://colab.research.google.com/github/mattiadido95/Haze-Fog-suppression/blob/main/dataset_generation.ipynb\" target=\"_parent\"><img src=\"https://colab.research.google.com/assets/colab-badge.svg\" alt=\"Open In Colab\"/></a>"
      ]
    },
    {
      "cell_type": "markdown",
      "source": [
        "# Import Libraries"
      ],
      "metadata": {
        "id": "Hym8rYntPPM5"
      }
    },
    {
      "cell_type": "code",
      "source": [
        "from google.colab import drive\n",
        "from google.colab.patches import cv2_imshow\n",
        "import os\n",
        "import gdown\n",
        "import zipfile\n",
        "import cv2\n",
        "import numpy as np"
      ],
      "metadata": {
        "id": "DW2OEAxLB1ni"
      },
      "execution_count": 24,
      "outputs": []
    },
    {
      "cell_type": "code",
      "source": [
        "# mount drive\n",
        "from google.colab import drive\n",
        "drive.mount('/content/drive', force_remount=True)"
      ],
      "metadata": {
        "id": "qMC8BzYnB-Mq",
        "outputId": "d46b4baa-4d19-4ca9-83cd-a1c87c90e4c0",
        "colab": {
          "base_uri": "https://localhost:8080/"
        }
      },
      "execution_count": 2,
      "outputs": [
        {
          "output_type": "stream",
          "name": "stdout",
          "text": [
            "Mounted at /content/drive\n"
          ]
        }
      ]
    },
    {
      "cell_type": "code",
      "source": [
        "folder_path = \"drive/MyDrive/Haze-Fog-suppression\"\n",
        "os.chdir(folder_path)"
      ],
      "metadata": {
        "id": "0vFtFOdwCHWs"
      },
      "execution_count": 3,
      "outputs": []
    },
    {
      "cell_type": "markdown",
      "source": [
        "# Uncompress Zip files\n"
      ],
      "metadata": {
        "id": "sggYHnmDPVML"
      }
    },
    {
      "cell_type": "code",
      "source": [
        "#os.chdir(\"dataset\")\n",
        "current_directory = os.getcwd()\n",
        "\n",
        "#estrae tutti i file zip e cancella il file compresso\n",
        "for file_name in os.listdir(current_directory):\n",
        "    if file_name.endswith(\".zip\"):\n",
        "        path_to_zip_file = os.path.join(current_directory, file_name)\n",
        "        with zipfile.ZipFile(path_to_zip_file, 'r') as zip_ref:\n",
        "            zip_ref.extractall(current_directory)\n",
        "        os.remove(path_to_zip_file)"
      ],
      "metadata": {
        "id": "zHzWVlmXPTKE"
      },
      "execution_count": 15,
      "outputs": []
    },
    {
      "cell_type": "markdown",
      "source": [
        "# Generate datasets"
      ],
      "metadata": {
        "id": "CtCqH0djRbcA"
      }
    },
    {
      "cell_type": "code",
      "source": [
        "zero_beta = 0\n",
        "low_beta = 0\n",
        "medium_beta = 0\n",
        "high_beta = 0\n",
        "\n",
        "path_to_original_image = \"/content/drive/MyDrive/Haze-Fog-suppression/dataset/DepthMaps/00000.png\"\n",
        "path_to_depth_map = \"/content/drive/MyDrive/Haze-Fog-suppression/dataset/Vis/00000.png\"\n",
        "\n",
        "!ls"
      ],
      "metadata": {
        "colab": {
          "base_uri": "https://localhost:8080/"
        },
        "id": "1vzu6kb4Ts4b",
        "outputId": "c22ce515-ae43-4948-ba0a-44bd944eede1"
      },
      "execution_count": 16,
      "outputs": [
        {
          "output_type": "stream",
          "name": "stdout",
          "text": [
            "DepthMaps  SOTS  Vis\n"
          ]
        }
      ]
    },
    {
      "cell_type": "code",
      "source": [
        "# Carica l'immagine originale e la mappa di transizione\n",
        "J = cv2.imread(path_to_original_image)\n",
        "d = cv2.imread(path_to_depth_map)\n",
        "\n",
        "# Specifica i parametri\n",
        "A = 100  # Valore di luce atmosferica (generalmente tra 0 e 255)\n",
        "beta = low_beta\n",
        "\n",
        "#Calcola la mappa di transizione\n",
        "t = np.exp(-beta * d)\n",
        "\n",
        "print(J.shape)\n",
        "print(t.shape)\n",
        "print(d.shape)\n",
        "\n",
        "# Calcola l'immagine degradata con effetto nebbia\n",
        "I = J * t + A * (1 - t)\n",
        "\n",
        "print(I.shape)\n",
        "# Visualizza l'immagine degradata\n",
        "#cv2.imshow('Degraded Image', I)\n",
        "#cv2.waitKey(0)\n",
        "\n",
        "# Salva l'immagine degradata su disco\n",
        "cv2.imwrite('degraded_image.jpg', I)\n",
        "\n"
      ],
      "metadata": {
        "colab": {
          "base_uri": "https://localhost:8080/",
          "height": 334
        },
        "id": "7DL4zqOJTs_J",
        "outputId": "af9046fa-7867-4c65-b5ee-92bd283166d5"
      },
      "execution_count": 43,
      "outputs": [
        {
          "output_type": "stream",
          "name": "stdout",
          "text": [
            "(768, 1024, 3)\n",
            "(768, 1024, 3)\n",
            "(768, 1024, 3)\n",
            "(768, 1024, 3)\n"
          ]
        },
        {
          "output_type": "error",
          "ename": "error",
          "evalue": "ignored",
          "traceback": [
            "\u001b[0;31m---------------------------------------------------------------------------\u001b[0m",
            "\u001b[0;31merror\u001b[0m                                     Traceback (most recent call last)",
            "\u001b[0;32m<ipython-input-43-80472978ab6a>\u001b[0m in \u001b[0;36m<cell line: 25>\u001b[0;34m()\u001b[0m\n\u001b[1;32m     23\u001b[0m \u001b[0;34m\u001b[0m\u001b[0m\n\u001b[1;32m     24\u001b[0m \u001b[0;31m# Salva l'immagine degradata su disco\u001b[0m\u001b[0;34m\u001b[0m\u001b[0;34m\u001b[0m\u001b[0m\n\u001b[0;32m---> 25\u001b[0;31m \u001b[0mcv2\u001b[0m\u001b[0;34m.\u001b[0m\u001b[0mimwrite\u001b[0m\u001b[0;34m(\u001b[0m\u001b[0;34m'degraded_image.jpg'\u001b[0m\u001b[0;34m,\u001b[0m \u001b[0mI\u001b[0m\u001b[0;34m)\u001b[0m\u001b[0;34m\u001b[0m\u001b[0;34m\u001b[0m\u001b[0m\n\u001b[0m\u001b[1;32m     26\u001b[0m \u001b[0;34m\u001b[0m\u001b[0m\n",
            "\u001b[0;31merror\u001b[0m: OpenCV(4.7.0) :-1: error: (-5:Bad argument) in function 'imwrite'\n> Overload resolution failed:\n>  - img data type = 23 is not supported\n>  - Expected Ptr<cv::UMat> for argument 'img'\n"
          ]
        }
      ]
    }
  ]
}