{
  "nbformat": 4,
  "nbformat_minor": 0,
  "metadata": {
    "colab": {
      "provenance": [],
      "include_colab_link": true
    },
    "kernelspec": {
      "name": "python3",
      "display_name": "Python 3"
    },
    "language_info": {
      "name": "python"
    }
  },
  "cells": [
    {
      "cell_type": "markdown",
      "metadata": {
        "id": "view-in-github",
        "colab_type": "text"
      },
      "source": [
        "<a href=\"https://colab.research.google.com/github/mattiadido95/Haze-Fog-suppression/blob/main/dataset_generation.ipynb\" target=\"_parent\"><img src=\"https://colab.research.google.com/assets/colab-badge.svg\" alt=\"Open In Colab\"/></a>"
      ]
    },
    {
      "cell_type": "markdown",
      "source": [
        "# Import Libraries"
      ],
      "metadata": {
        "id": "Hym8rYntPPM5"
      }
    },
    {
      "cell_type": "code",
      "source": [
        "from google.colab import drive\n",
        "from google.colab.patches import cv2_imshow\n",
        "import os\n",
        "import gdown\n",
        "import zipfile\n",
        "import cv2\n",
        "import numpy as np\n",
        "import shutil"
      ],
      "metadata": {
        "id": "DW2OEAxLB1ni"
      },
      "execution_count": 1,
      "outputs": []
    },
    {
      "cell_type": "code",
      "source": [
        "# mount drive\n",
        "from google.colab import drive\n",
        "drive.mount('/content/drive', force_remount=True)"
      ],
      "metadata": {
        "id": "qMC8BzYnB-Mq",
        "outputId": "b4bf22d5-018e-4b9b-dab0-6ce981afeb06",
        "colab": {
          "base_uri": "https://localhost:8080/"
        }
      },
      "execution_count": 2,
      "outputs": [
        {
          "output_type": "stream",
          "name": "stdout",
          "text": [
            "Mounted at /content/drive\n"
          ]
        }
      ]
    },
    {
      "cell_type": "code",
      "source": [
        "folder_path = \"drive/MyDrive/Haze-Fog-suppression\"\n",
        "os.chdir(folder_path)"
      ],
      "metadata": {
        "id": "0vFtFOdwCHWs"
      },
      "execution_count": 3,
      "outputs": []
    },
    {
      "cell_type": "markdown",
      "source": [
        "# Uncompress Zip files\n"
      ],
      "metadata": {
        "id": "sggYHnmDPVML"
      }
    },
    {
      "cell_type": "code",
      "source": [
        "os.chdir(\"dataset\")\n",
        "current_directory = os.getcwd()\n",
        "\n",
        "#estrae tutti i file zip e cancella il file compresso\n",
        "for file_name in os.listdir(current_directory):\n",
        "    if file_name.endswith(\".zip\"):\n",
        "        path_to_zip_file = os.path.join(current_directory, file_name)\n",
        "        with zipfile.ZipFile(path_to_zip_file, 'r') as zip_ref:\n",
        "            zip_ref.extractall(current_directory)\n",
        "        os.remove(path_to_zip_file)"
      ],
      "metadata": {
        "id": "zHzWVlmXPTKE"
      },
      "execution_count": null,
      "outputs": []
    },
    {
      "cell_type": "markdown",
      "source": [
        "# Generate datasets"
      ],
      "metadata": {
        "id": "CtCqH0djRbcA"
      }
    },
    {
      "cell_type": "code",
      "source": [
        "#`d` sia l'immagine di profondità e `thresholds` sia una lista di tre soglie\n",
        "def compute_transmission_map_Koschmieder(d):\n",
        "    H = d.shape[0]\n",
        "    W = d.shape[1]\n",
        "    vector = d.reshape(H * W * 3)\n",
        "    for pixel_value in vector:\n",
        "      if pixel_value < 50:\n",
        "        pixel_value = 0\n",
        "      elif pixel_value > 50 and pixel_value < 87:\n",
        "        pixel_value = 50\n",
        "      elif pixel_value > 87 and pixel_value < 167:\n",
        "        pixel_value = 87\n",
        "      elif pixel_value > 167 and pixel_value < 209:\n",
        "        pixel_value = 167\n",
        "      else:\n",
        "        pixel_value = 255\n",
        "    normalized = vector.reshape(H, W, 3).astype(np.uint8)\n",
        "    t = np.exp(-0.01 * normalized)\n",
        "    return t\n",
        "\n",
        "def compute_transmission_map_Bruneton(d):\n",
        "  beta = 0.008\n",
        "  cos_theta = -0.8\n",
        "  epsilon = 2\n",
        "  t = np.exp(-beta * d / pow(cos_theta, epsilon))\n",
        "  return t\n"
      ],
      "metadata": {
        "id": "OTuZSsdDqQKU"
      },
      "execution_count": null,
      "outputs": []
    },
    {
      "cell_type": "code",
      "source": [
        "def compute_cevr(original_image,degraded_image):\n",
        "    max_J = np.max(original_image)\n",
        "    min_J = np.min(original_image)\n",
        "    max_I = np.max(degraded_image)\n",
        "    min_I = np.min(degraded_image)\n",
        "\n",
        "    cevr = (max_J - min_J) / (max_I - min_I)\n",
        "    return cevr"
      ],
      "metadata": {
        "id": "DKg6Cd4AXe1w"
      },
      "execution_count": null,
      "outputs": []
    },
    {
      "cell_type": "code",
      "source": [
        "# Specifica i parametri\n",
        "# Valore di luce atmosferica (generalmente tra 0 e 255)\n",
        "low_A = 120\n",
        "medium_A = 180\n",
        "high_A = 220\n",
        "\n",
        "low_beta = 0.004\n",
        "medium_beta = 0.006\n",
        "high_beta = 0.008\n",
        "very_high_beta = 0.01\n",
        "\n",
        "path_to_original_images = \"/content/drive/MyDrive/Haze-Fog-suppression/dataset/Vis/\"\n",
        "path_to_depth_maps = \"/content/drive/MyDrive/Haze-Fog-suppression/dataset/DepthMaps/\"\n",
        "path_to_input = \"/content/drive/MyDrive/Haze-Fog-suppression/dataset/train_A/\"\n",
        "path_to_output = \"/content/drive/MyDrive/Haze-Fog-suppression/dataset/train_B/\""
      ],
      "metadata": {
        "id": "1vzu6kb4Ts4b"
      },
      "execution_count": null,
      "outputs": []
    },
    {
      "cell_type": "code",
      "source": [
        "def generate_fog_image(path_to_original_image,path_to_depth_map,A,beta,img_name,level):\n",
        "    # Carica l'immagine originale e la depth map\n",
        "    J = cv2.imread(path_to_original_image)\n",
        "    d = cv2.imread(path_to_depth_map)\n",
        "\n",
        "    t = np.exp(-beta * d)\n",
        "    I = J * t + A * (1 - t)\n",
        "\n",
        "    cv2.imwrite(path_to_input + img_name[:-4] + \"_\" + str(level) + '.png', np.uint8(I))\n",
        "    cv2.imwrite(path_to_output + img_name[:-4] + \"_\" + str(level) + '.png', np.uint8(J))"
      ],
      "metadata": {
        "id": "-eJkqFeMcwVO"
      },
      "execution_count": null,
      "outputs": []
    },
    {
      "cell_type": "code",
      "source": [
        "# Scorri tutti i file nella cartella\n",
        "file_ordinati = sorted(os.listdir(path_to_original_images))\n",
        "\n",
        "for nome_file in file_ordinati[:2100]:\n",
        "    path_to_original_image = os.path.join(path_to_original_images, nome_file)\n",
        "    path_to_depth_map = os.path.join(path_to_depth_maps, nome_file)\n",
        "    generate_fog_image(path_to_original_image,path_to_depth_map,low_A,low_beta,nome_file,\"low\")\n",
        "    generate_fog_image(path_to_original_image,path_to_depth_map,medium_A,medium_beta,nome_file,\"medium\")\n",
        "    generate_fog_image(path_to_original_image,path_to_depth_map,high_A,high_beta,nome_file,\"high\")"
      ],
      "metadata": {
        "id": "7DL4zqOJTs_J"
      },
      "execution_count": null,
      "outputs": []
    },
    {
      "cell_type": "code",
      "source": [
        "# Scorri tutti i file nella cartella\n",
        "file_ordinati = sorted(os.listdir(path_to_original_images))\n",
        "\n",
        "for nome_file in file_ordinati[2100:]:\n",
        "    path_to_original_image = os.path.join(path_to_original_images, nome_file)\n",
        "    path_to_depth_map = os.path.join(path_to_depth_maps, nome_file)\n",
        "    generate_fog_image(path_to_original_image,path_to_depth_map,low_A,low_beta,nome_file,\"low\")\n",
        "    generate_fog_image(path_to_original_image,path_to_depth_map,medium_A,medium_beta,nome_file,\"medium\")\n",
        "    generate_fog_image(path_to_original_image,path_to_depth_map,high_A,high_beta,nome_file,\"high\")"
      ],
      "metadata": {
        "id": "A12ITZgKkL90"
      },
      "execution_count": null,
      "outputs": []
    },
    {
      "cell_type": "markdown",
      "source": [
        "# Copy file into Pix2PixHD model"
      ],
      "metadata": {
        "id": "x39NR3s8Rn_B"
      }
    },
    {
      "cell_type": "markdown",
      "source": [
        "### seleziona randomicamente 4200 immagini con livello di nebbia differente"
      ],
      "metadata": {
        "id": "mwataDf0xzlq"
      }
    },
    {
      "cell_type": "code",
      "source": [
        "lista_file = [file for file in os.listdir(path_to_original_images)]\n",
        "classi = [\"low\", \"medium\", \"high\"]\n",
        "train = []\n",
        "test = []\n",
        "\n",
        "for i in range(len(lista_file)):\n",
        "    livello = i % 3\n",
        "    livello_comp1 = (i+1) % 3\n",
        "    livello_comp2 = (i+2) % 3\n",
        "    train.append(str(lista_file[i][:-4])+\"_\"+str(classi[livello])+\".png\")\n",
        "    test.append(str(lista_file[i][:-4])+\"_\"+str(classi[livello_comp1]+\".png\"))\n",
        "    test.append(str(lista_file[i][:-4])+\"_\"+str(classi[livello_comp2]+\".png\"))\n",
        "\n",
        "print(train[:10])\n",
        "print(test[:10])\n",
        "print(len(train))\n",
        "print(len(test))\n"
      ],
      "metadata": {
        "id": "A_d4Y99yvvWf",
        "outputId": "9e56831a-b00f-4349-b204-f0de85da9549",
        "colab": {
          "base_uri": "https://localhost:8080/"
        }
      },
      "execution_count": null,
      "outputs": [
        {
          "output_type": "stream",
          "name": "stdout",
          "text": [
            "['03200_low.png', '03201_medium.png', '03202_high.png', '03203_low.png', '03204_medium.png', '03205_high.png', '03206_low.png', '03207_medium.png', '03208_high.png', '03209_low.png']\n",
            "['03200_medium.png', '03200_high.png', '03201_high.png', '03201_low.png', '03202_low.png', '03202_medium.png', '03203_medium.png', '03203_high.png', '03204_high.png', '03204_low.png']\n",
            "4200\n",
            "8400\n"
          ]
        }
      ]
    },
    {
      "cell_type": "code",
      "source": [
        "import shutil\n",
        "\n",
        "# Definisci i percorsi delle cartelle sorgente e destinazione\n",
        "percorso_sorgente = '/content/drive/MyDrive/Haze-Fog-suppression/dataset/train_A/'\n",
        "percorso_destinazione = '/content/drive/MyDrive/Haze-Fog-suppression/pix2pixHD/datasets/nebbia/train_A'\n",
        "\n",
        "# Crea la cartella destinazione se non esiste\n",
        "if not os.path.exists(percorso_destinazione):\n",
        "    os.makedirs(percorso_destinazione)\n",
        "\n",
        "# Copia i file dalla cartella sorgente alla destinazione\n",
        "for file in train:\n",
        "    percorso_file_sorgente = os.path.join(percorso_sorgente, file)\n",
        "    percorso_file_destinazione = os.path.join(percorso_destinazione, file)\n",
        "    shutil.copy2(percorso_file_sorgente, percorso_file_destinazione)\n"
      ],
      "metadata": {
        "id": "6aOYTJEQGQte"
      },
      "execution_count": null,
      "outputs": []
    },
    {
      "cell_type": "code",
      "source": [
        "import shutil\n",
        "\n",
        "# Definisci i percorsi delle cartelle sorgente e destinazione\n",
        "percorso_sorgente = '/content/drive/MyDrive/Haze-Fog-suppression/dataset/train_B/'\n",
        "percorso_destinazione = '/content/drive/MyDrive/Haze-Fog-suppression/pix2pixHD/datasets/nebbia/train_B'\n",
        "\n",
        "# Crea la cartella destinazione se non esiste\n",
        "if not os.path.exists(percorso_destinazione):\n",
        "    os.makedirs(percorso_destinazione)\n",
        "\n",
        "# Copia i file dalla cartella sorgente alla destinazione\n",
        "for file in train:\n",
        "    percorso_file_sorgente = os.path.join(percorso_sorgente, file)\n",
        "    percorso_file_destinazione = os.path.join(percorso_destinazione, file)\n",
        "    shutil.copy2(percorso_file_sorgente, percorso_file_destinazione)\n"
      ],
      "metadata": {
        "id": "APuEiLxWVC1q",
        "outputId": "cef2b8d8-6b76-4ef1-9954-ce1a85c6f93c",
        "colab": {
          "base_uri": "https://localhost:8080/",
          "height": 35
        }
      },
      "execution_count": null,
      "outputs": [
        {
          "output_type": "execute_result",
          "data": {
            "text/plain": [
              "'/content/drive/MyDrive/Haze-Fog-suppression/pix2pixHD/datasets/nebbia/train_B'"
            ],
            "application/vnd.google.colaboratory.intrinsic+json": {
              "type": "string"
            }
          },
          "metadata": {},
          "execution_count": 13
        }
      ]
    },
    {
      "cell_type": "code",
      "source": [
        "import os\n",
        "\n",
        "# Definisci il percorso della cartella di destinazione\n",
        "percorso_destinazione_A = '/content/drive/MyDrive/Haze-Fog-suppression/pix2pixHD/datasets/nebbia/train_A'\n",
        "percorso_destinazione_B = '/content/drive/MyDrive/Haze-Fog-suppression/pix2pixHD/datasets/nebbia/train_B'\n",
        "\n",
        "# Stampa il numero di file\n",
        "print(\"Il numero totale di file nella cartella train_A è:\", len(os.listdir(percorso_destinazione_A)))\n",
        "print(\"Il numero totale di file nella cartella train_B è:\", len(os.listdir(percorso_destinazione_B)))"
      ],
      "metadata": {
        "id": "j9K6Vh76QgKV",
        "outputId": "ef4e1ca2-293e-4dfa-d659-41cf379c3b94",
        "colab": {
          "base_uri": "https://localhost:8080/"
        }
      },
      "execution_count": null,
      "outputs": [
        {
          "output_type": "stream",
          "name": "stdout",
          "text": [
            "Il numero totale di file nella cartella train_A è: 12600\n",
            "Il numero totale di file nella cartella train_B è: 12600\n"
          ]
        }
      ]
    },
    {
      "cell_type": "markdown",
      "source": [
        "## delete dataset"
      ],
      "metadata": {
        "id": "P-vOjzTtS2YK"
      }
    },
    {
      "cell_type": "code",
      "source": [
        "# DANGER\n",
        "# delete train_A or train_B\n",
        "import shutil\n",
        "percorso_cartella_da_eliminare = \"/content/drive/MyDrive/Haze-Fog-suppression/pix2pixHD/datasets/nebbia/train_A\"\n",
        "shutil.rmtree(percorso_cartella_da_eliminare)"
      ],
      "metadata": {
        "id": "-LUmTnsgR_cf"
      },
      "execution_count": null,
      "outputs": []
    },
    {
      "cell_type": "code",
      "source": [
        "shutil.rmtree('/content/drive/MyDrive/Haze-Fog-suppression/pix2pixHD/datasets/nebbia/train_A/.ipynb_checkpoints')\n",
        "shutil.rmtree('/content/drive/MyDrive/Haze-Fog-suppression/pix2pixHD/datasets/nebbia/train_B/.ipynb_checkpoints')"
      ],
      "metadata": {
        "id": "Lsaad3qkpFvN"
      },
      "execution_count": null,
      "outputs": []
    },
    {
      "cell_type": "code",
      "source": [
        "file_ordinati = sorted(os.listdir(percorso_destinazione_A))\n",
        "print(file_ordinati)"
      ],
      "metadata": {
        "id": "dnyT0JBzooi6"
      },
      "execution_count": null,
      "outputs": []
    },
    {
      "cell_type": "markdown",
      "source": [
        "# Resize images\n"
      ],
      "metadata": {
        "id": "xnAPchevbRE0"
      }
    },
    {
      "cell_type": "code",
      "source": [
        "#Check dimension image ---> fatto in locale perche impiegava troppo tempo\n",
        "\n",
        "# Definisci il percorso della cartella di destinazione\n",
        "percorso_destinazione_A = '/content/drive/MyDrive/Haze-Fog-suppression/pix2pixHD/datasets/nebbia/train_A/'\n",
        "percorso_destinazione_B = '/content/drive/MyDrive/Haze-Fog-suppression/pix2pixHD/datasets/nebbia/train_B/'\n",
        "\n",
        "file_ordinati = sorted(os.listdir(percorso_destinazione_A))\n",
        "count=0\n",
        "file = open(\"lista_img.txt\", \"w\")\n",
        "for nome_file in file_ordinati:\n",
        "    input = os.path.join(percorso_destinazione_A, nome_file)\n",
        "    output = os.path.join(percorso_destinazione_B, nome_file)\n",
        "    i = cv2.imread(input)\n",
        "    o = cv2.imread(output)\n",
        "    if i.shape != (768, 1024, 3):\n",
        "      file.write(nome_file + \"\\n\")\n",
        "    if o.shape != (768, 1024, 3):\n",
        "      file.write(nome_file + \"\\n\")\n",
        "    count += 1\n",
        "    if count % 1000 == 0:\n",
        "      print(count)\n",
        "file.close()\n"
      ],
      "metadata": {
        "id": "Vjy74SQYbaVP",
        "outputId": "2e404fc6-7d9e-4992-c9bb-e3c397bdf556",
        "colab": {
          "base_uri": "https://localhost:8080/",
          "height": 232
        }
      },
      "execution_count": null,
      "outputs": [
        {
          "output_type": "error",
          "ename": "KeyboardInterrupt",
          "evalue": "ignored",
          "traceback": [
            "\u001b[0;31m---------------------------------------------------------------------------\u001b[0m",
            "\u001b[0;31mKeyboardInterrupt\u001b[0m                         Traceback (most recent call last)",
            "\u001b[0;32m<ipython-input-50-10853d6534f8>\u001b[0m in \u001b[0;36m<cell line: 8>\u001b[0;34m()\u001b[0m\n\u001b[1;32m     10\u001b[0m     \u001b[0moutput\u001b[0m \u001b[0;34m=\u001b[0m \u001b[0mos\u001b[0m\u001b[0;34m.\u001b[0m\u001b[0mpath\u001b[0m\u001b[0;34m.\u001b[0m\u001b[0mjoin\u001b[0m\u001b[0;34m(\u001b[0m\u001b[0mpercorso_destinazione_B\u001b[0m\u001b[0;34m,\u001b[0m \u001b[0mnome_file\u001b[0m\u001b[0;34m)\u001b[0m\u001b[0;34m\u001b[0m\u001b[0;34m\u001b[0m\u001b[0m\n\u001b[1;32m     11\u001b[0m     \u001b[0mi\u001b[0m \u001b[0;34m=\u001b[0m \u001b[0mcv2\u001b[0m\u001b[0;34m.\u001b[0m\u001b[0mimread\u001b[0m\u001b[0;34m(\u001b[0m\u001b[0minput\u001b[0m\u001b[0;34m)\u001b[0m\u001b[0;34m\u001b[0m\u001b[0;34m\u001b[0m\u001b[0m\n\u001b[0;32m---> 12\u001b[0;31m     \u001b[0mo\u001b[0m \u001b[0;34m=\u001b[0m \u001b[0mcv2\u001b[0m\u001b[0;34m.\u001b[0m\u001b[0mimread\u001b[0m\u001b[0;34m(\u001b[0m\u001b[0moutput\u001b[0m\u001b[0;34m)\u001b[0m\u001b[0;34m\u001b[0m\u001b[0;34m\u001b[0m\u001b[0m\n\u001b[0m\u001b[1;32m     13\u001b[0m     \u001b[0;32mif\u001b[0m \u001b[0mi\u001b[0m\u001b[0;34m.\u001b[0m\u001b[0mshape\u001b[0m \u001b[0;34m!=\u001b[0m \u001b[0;34m(\u001b[0m\u001b[0;36m768\u001b[0m\u001b[0;34m,\u001b[0m \u001b[0;36m1024\u001b[0m\u001b[0;34m,\u001b[0m \u001b[0;36m3\u001b[0m\u001b[0;34m)\u001b[0m\u001b[0;34m:\u001b[0m\u001b[0;34m\u001b[0m\u001b[0;34m\u001b[0m\u001b[0m\n\u001b[1;32m     14\u001b[0m       \u001b[0mfile\u001b[0m\u001b[0;34m.\u001b[0m\u001b[0mwrite\u001b[0m\u001b[0;34m(\u001b[0m\u001b[0mnome_file\u001b[0m \u001b[0;34m+\u001b[0m \u001b[0;34m\"\\n\"\u001b[0m\u001b[0;34m)\u001b[0m\u001b[0;34m\u001b[0m\u001b[0;34m\u001b[0m\u001b[0m\n",
            "\u001b[0;31mKeyboardInterrupt\u001b[0m: "
          ]
        }
      ]
    },
    {
      "cell_type": "code",
      "source": [
        "#Resize images already processed\n",
        "\n",
        "# Definisci il percorso della cartella di destinazione\n",
        "percorso_destinazione_A = '/content/drive/MyDrive/Haze-Fog-suppression/dataset/train_A/'\n",
        "percorso_destinazione_B = '/content/drive/MyDrive/Haze-Fog-suppression/dataset/train_B/'\n",
        "new_width = 1024\n",
        "new_height = 768\n",
        "\n",
        "\n",
        "#lettura file da modificare\n",
        "file = open(\"lista_img.txt\", \"r\")\n",
        "lines = file.readlines()\n",
        "lines = [line.rstrip() for line in lines]\n",
        "file.close()\n",
        "\n",
        "for nome_file in lines:\n",
        "  input_low = percorso_destinazione_A + nome_file[:-4] + \"_\" + 'low.png'\n",
        "  output_low = percorso_destinazione_B + nome_file[:-4] + \"_\" + 'low.png'\n",
        "  input_medium = percorso_destinazione_A + nome_file[:-4] + \"_\" + 'medium.png'\n",
        "  output_medium = percorso_destinazione_B + nome_file[:-4] + \"_\" + 'medium.png'\n",
        "  input_high = percorso_destinazione_A + nome_file[:-4] + \"_\" + 'high.png'\n",
        "  output_high = percorso_destinazione_B + nome_file[:-4] + \"_\" + 'high.png'\n",
        "\n",
        "  # Per l'immagine di input di bassa qualità\n",
        "  image_input_low = cv2.imread(input_low)\n",
        "  resized_image_input_low = cv2.resize(image_input_low, (new_width, new_height))\n",
        "  os.remove(input_low)\n",
        "  cv2.imwrite(input_low, resized_image_input_low)\n",
        "\n",
        "  # Per l'immagine di output di bassa qualità\n",
        "  image_output_low = cv2.imread(output_low)\n",
        "  resized_image_output_low = cv2.resize(image_output_low, (new_width, new_height))\n",
        "  os.remove(output_low)\n",
        "  cv2.imwrite(output_low, resized_image_output_low)\n",
        "\n",
        "  # Per l'immagine di input di media qualità\n",
        "  image_input_medium = cv2.imread(input_medium)\n",
        "  resized_image_input_medium = cv2.resize(image_input_medium, (new_width, new_height))\n",
        "  os.remove(input_medium)\n",
        "  cv2.imwrite(input_medium, resized_image_input_medium)\n",
        "\n",
        "  # Per l'immagine di output di media qualità\n",
        "  image_output_medium = cv2.imread(output_medium)\n",
        "  resized_image_output_medium = cv2.resize(image_output_medium, (new_width, new_height))\n",
        "  os.remove(output_medium)\n",
        "  cv2.imwrite(output_medium, resized_image_output_medium)\n",
        "\n",
        "  # Per l'immagine di input di alta qualità\n",
        "  image_input_high = cv2.imread(input_high)\n",
        "  resized_image_input_high = cv2.resize(image_input_high, (new_width, new_height))\n",
        "  os.remove(input_high)\n",
        "  cv2.imwrite(input_high, resized_image_input_high)\n",
        "\n",
        "  # Per l'immagine di output di alta qualità\n",
        "  image_output_high = cv2.imread(output_high)\n",
        "  resized_image_output_high = cv2.resize(image_output_high, (new_width, new_height))\n",
        "  os.remove(output_high)\n",
        "  cv2.imwrite(output_high, resized_image_output_high)\n"
      ],
      "metadata": {
        "id": "G-hi1MWItiof"
      },
      "execution_count": null,
      "outputs": []
    },
    {
      "cell_type": "code",
      "source": [
        "percorso_destinazione_A = '/content/drive/MyDrive/Haze-Fog-suppression/pix2pixHD/datasets/nebbia/train_A/'\n",
        "input_low = percorso_destinazione_B + \"01301\" + \"_\" + 'high.png'\n",
        "image_input_low = cv2.imread(input_low)\n",
        "print(image_input_low.shape)\n"
      ],
      "metadata": {
        "id": "_l3xubsQUPXp",
        "outputId": "d65e984d-86af-4c95-911d-1776159b3aa5",
        "colab": {
          "base_uri": "https://localhost:8080/"
        }
      },
      "execution_count": null,
      "outputs": [
        {
          "output_type": "stream",
          "name": "stdout",
          "text": [
            "(768, 1024, 3)\n"
          ]
        }
      ]
    },
    {
      "cell_type": "markdown",
      "source": [
        "# Splitting delle immagini in 3 cartelle diverse per livello di nebbia\n",
        "\n"
      ],
      "metadata": {
        "id": "LCH1k64p8Hoj"
      }
    },
    {
      "cell_type": "code",
      "source": [
        "import os\n",
        "import shutil\n",
        "\n",
        "# Definisci i percorsi delle cartelle sorgente e destinazione\n",
        "percorso_sorgente = '/content/drive/MyDrive/Haze-Fog-suppression/dataset/train_A/'\n",
        "percorso_destinazione = '/content/drive/MyDrive/Haze-Fog-suppression/pix2pixHD/datasets/nebbia/train_A_old'\n",
        "\n",
        "# Crea la cartella destinazione se non esiste\n",
        "if not os.path.exists(percorso_destinazione):\n",
        "    os.makedirs(percorso_destinazione)\n",
        "\n",
        "# Ottieni l'elenco dei file nella cartella sorgente\n",
        "elenco_file_sorgente = os.listdir(percorso_sorgente)\n",
        "\n",
        "# Copia i file dalla cartella sorgente alla destinazione\n",
        "for file in elenco_file_sorgente:\n",
        "    percorso_file_sorgente = os.path.join(percorso_sorgente, file)\n",
        "    percorso_file_destinazione = os.path.join(percorso_destinazione, file)\n",
        "    shutil.copy2(percorso_file_sorgente, percorso_file_destinazione)\n"
      ],
      "metadata": {
        "id": "DSt5y7n6a86g"
      },
      "execution_count": null,
      "outputs": []
    },
    {
      "cell_type": "code",
      "source": [
        "import os\n",
        "import shutil\n",
        "\n",
        "# Definisci i percorsi delle cartelle sorgente e destinazione\n",
        "percorso_sorgente = '/content/drive/MyDrive/Haze-Fog-suppression/dataset/train_B/'\n",
        "percorso_destinazione = '/content/drive/MyDrive/Haze-Fog-suppression/pix2pixHD/datasets/nebbia/train_B_old'\n",
        "\n",
        "# Crea la cartella destinazione se non esiste\n",
        "if not os.path.exists(percorso_destinazione):\n",
        "    os.makedirs(percorso_destinazione)\n",
        "\n",
        "# Ottieni l'elenco dei file nella cartella sorgente\n",
        "elenco_file_sorgente = os.listdir(percorso_sorgente)\n",
        "\n",
        "# Copia i file dalla cartella sorgente alla destinazione\n",
        "for file in elenco_file_sorgente:\n",
        "    percorso_file_sorgente = os.path.join(percorso_sorgente, file)\n",
        "    percorso_file_destinazione = os.path.join(percorso_destinazione, file)\n",
        "    shutil.copy2(percorso_file_sorgente, percorso_file_destinazione)"
      ],
      "metadata": {
        "id": "KSf0c6dUbElE"
      },
      "execution_count": null,
      "outputs": []
    },
    {
      "cell_type": "code",
      "source": [
        "import os\n",
        "\n",
        "# Definisci il percorso della cartella di destinazione\n",
        "percorso_destinazione_A = '/content/drive/MyDrive/Haze-Fog-suppression/pix2pixHD/datasets/nebbia/train_A_old'\n",
        "percorso_destinazione_B = '/content/drive/MyDrive/Haze-Fog-suppression/pix2pixHD/datasets/nebbia/train_B_old'\n",
        "\n",
        "# Stampa il numero di file\n",
        "print(\"Il numero totale di file nella cartella train_A è:\", len(os.listdir(percorso_destinazione_A)))\n",
        "print(\"Il numero totale di file nella cartella train_B è:\", len(os.listdir(percorso_destinazione_B)))"
      ],
      "metadata": {
        "colab": {
          "base_uri": "https://localhost:8080/"
        },
        "id": "0-oYQIGkvX-s",
        "outputId": "7a747314-b455-4c3c-c4e3-d525ff3fbc6b"
      },
      "execution_count": null,
      "outputs": [
        {
          "output_type": "stream",
          "name": "stdout",
          "text": [
            "Il numero totale di file nella cartella train_A è: 12600\n",
            "Il numero totale di file nella cartella train_B è: 12600\n"
          ]
        }
      ]
    },
    {
      "cell_type": "code",
      "source": [
        "# Definisci i nomi dei livelli\n",
        "livelli = ['low', 'medium', 'high']\n",
        "\n",
        "# Percorso della cartella contenente le immagini\n",
        "cartella_dataset = '/content/drive/MyDrive/Haze-Fog-suppression/pix2pixHD/datasets/'\n",
        "cartella_trainA = '/content/drive/MyDrive/Haze-Fog-suppression/pix2pixHD/datasets/nebbia/train_A_old'\n",
        "cartella_trainB = '/content/drive/MyDrive/Haze-Fog-suppression/pix2pixHD/datasets/nebbia/train_B_old'\n",
        "\n",
        "os.chdir(cartella_dataset)\n",
        "!pwd\n"
      ],
      "metadata": {
        "id": "RQGD0jPwssjm",
        "outputId": "febe1cf3-a157-4506-dcc1-1a8d38439af1",
        "colab": {
          "base_uri": "https://localhost:8080/"
        }
      },
      "execution_count": null,
      "outputs": [
        {
          "output_type": "stream",
          "name": "stdout",
          "text": [
            "/content/drive/MyDrive/Haze-Fog-suppression/pix2pixHD/datasets\n"
          ]
        }
      ]
    },
    {
      "cell_type": "code",
      "source": [
        "# Crea le cartelle per i livelli\n",
        "for livello in livelli:\n",
        "    nuova_cartella = f'nebbia_{livello}/train_A'\n",
        "    os.makedirs(nuova_cartella, exist_ok=True)\n",
        "    nuova_cartella = f'nebbia_{livello}/train_B'\n",
        "    os.makedirs(nuova_cartella, exist_ok=True)\n",
        "\n",
        "# Sposta le immagini nei rispettivi livelli\n",
        "for file in os.listdir(cartella_trainA):\n",
        "    if file.endswith('.png'):\n",
        "        for livello in livelli:\n",
        "            if livello in file:\n",
        "                nuova_cartella = f'nebbia_{livello}/train_A'\n",
        "                nuovo_nome = file.replace(f'_{livello}.png', '.png')\n",
        "                shutil.copy2(os.path.join(cartella_trainA, file), os.path.join(nuova_cartella, nuovo_nome))\n",
        "\n",
        "# Sposta le immagini nei rispettivi livelli\n",
        "for file in os.listdir(cartella_trainB):\n",
        "    if file.endswith('.png'):\n",
        "        for livello in livelli:\n",
        "            if livello in file:\n",
        "                nuova_cartella = f'nebbia_{livello}/train_B'\n",
        "                nuovo_nome = file.replace(f'_{livello}.png', '.png')\n",
        "                shutil.copy2(os.path.join(cartella_trainB, file), os.path.join(nuova_cartella, nuovo_nome))\n",
        "\n",
        "print(\"Spostamento completato!\")\n",
        "\n"
      ],
      "metadata": {
        "colab": {
          "base_uri": "https://localhost:8080/"
        },
        "id": "pUp8We1l8Uhe",
        "outputId": "0311d6b1-17d9-44f6-b96c-33639f7dd3f3"
      },
      "execution_count": null,
      "outputs": [
        {
          "output_type": "stream",
          "name": "stdout",
          "text": [
            "Spostamento completato!\n"
          ]
        }
      ]
    },
    {
      "cell_type": "code",
      "source": [
        "# Definisci il percorso della cartella di destinazione\n",
        "percorso = '/content/drive/MyDrive/Haze-Fog-suppression/pix2pixHD/datasets/nebbia_'\n",
        "\n",
        "for livello in livelli:\n",
        "  print(livello)\n",
        "  percorso_destinazione_A = percorso + livello + \"/train_A\"\n",
        "  percorso_destinazione_B = percorso + livello + \"/train_B\"\n",
        "  print(\"Il numero totale di file nella cartella train_A è:\", len(os.listdir(percorso_destinazione_A)))\n",
        "  print(\"Il numero totale di file nella cartella train_B è:\", len(os.listdir(percorso_destinazione_B)))\n"
      ],
      "metadata": {
        "id": "CzqRr1uVsmw2",
        "outputId": "4cf9307e-d17b-4e29-ce7c-9b7550440b19",
        "colab": {
          "base_uri": "https://localhost:8080/"
        }
      },
      "execution_count": null,
      "outputs": [
        {
          "output_type": "stream",
          "name": "stdout",
          "text": [
            "low\n",
            "Il numero totale di file nella cartella train_A è: 4200\n",
            "Il numero totale di file nella cartella train_B è: 4200\n",
            "medium\n",
            "Il numero totale di file nella cartella train_A è: 4200\n",
            "Il numero totale di file nella cartella train_B è: 4200\n",
            "high\n",
            "Il numero totale di file nella cartella train_A è: 4200\n",
            "Il numero totale di file nella cartella train_B è: 4200\n"
          ]
        }
      ]
    },
    {
      "cell_type": "markdown",
      "source": [
        "# Copio il dataset per il test"
      ],
      "metadata": {
        "id": "SXne8cp683tC"
      }
    },
    {
      "cell_type": "code",
      "source": [
        "import os\n",
        "import shutil\n",
        "\n",
        "def copy_folders_with_contents(source, destination):\n",
        "    if os.path.exists(source) and os.path.isdir(source):\n",
        "        indoor_source = os.path.join(source, 'indoor')\n",
        "        outdoor_source = os.path.join(source, 'outdoor')\n",
        "\n",
        "        if os.path.exists(indoor_source) and os.path.exists(outdoor_source):\n",
        "            indoor_dest = os.path.join(destination, 'indoor')\n",
        "            outdoor_dest = os.path.join(destination, 'outdoor')\n",
        "\n",
        "            shutil.copytree(indoor_source, indoor_dest)\n",
        "            shutil.copytree(outdoor_source, outdoor_dest)\n",
        "\n",
        "            print(\"Copia completata.\")\n",
        "        else:\n",
        "            print(\"Le cartelle indoor e outdoor non sono presenti nella cartella di origine.\")\n",
        "    else:\n",
        "        print(f\"Il percorso {source} non esiste o non è una directory.\")\n",
        "\n",
        "# Esempio di utilizzo\n",
        "source_path = '/content/drive/MyDrive/Haze-Fog-suppression/dataset/SOTS'\n",
        "destination_path = '/content/drive/MyDrive/Haze-Fog-suppression/pix2pixHD/datasets'\n",
        "\n",
        "copy_folders_with_contents(source_path, destination_path)\n"
      ],
      "metadata": {
        "id": "tfQnL8ln89lP",
        "outputId": "76740479-3626-48c7-a5ad-3f85050e081d",
        "colab": {
          "base_uri": "https://localhost:8080/"
        }
      },
      "execution_count": 4,
      "outputs": [
        {
          "output_type": "stream",
          "name": "stdout",
          "text": [
            "Copia completata.\n"
          ]
        }
      ]
    },
    {
      "cell_type": "code",
      "source": [
        "# Definisci il percorso della cartella di destinazione\n",
        "percorso = '/content/drive/MyDrive/Haze-Fog-suppression/pix2pixHD/datasets'\n",
        "\n",
        "source_path = '/content/drive/MyDrive/Haze-Fog-suppression/dataset/SOTS'\n",
        "destination_path = '/content/drive/MyDrive/Haze-Fog-suppression/pix2pixHD/datasets'\n",
        "\n",
        "context = [\"indoor\",\"outdoor\"]\n",
        "livelli = [\"gt\",\"hazy\"]\n",
        "for scene in context:\n",
        "  for livello in livelli:\n",
        "    print(scene)\n",
        "    print(livello)\n",
        "    percorso_sorgente_A = os.path.join(source_path,os.path.join(scene, livello))\n",
        "    percorso_destinazione_B =  os.path.join(destination_path,os.path.join(scene, livello))\n",
        "    print(\"Il numero totale di file nella cartella train_A è:\", len(os.listdir(percorso_sorgente_A)))\n",
        "    print(\"Il numero totale di file nella cartella train_B è:\", len(os.listdir(percorso_destinazione_B)))"
      ],
      "metadata": {
        "id": "srAcyh2pUoE3",
        "outputId": "32a8b73c-1d46-410b-c94f-350a0d6bed5a",
        "colab": {
          "base_uri": "https://localhost:8080/"
        }
      },
      "execution_count": 6,
      "outputs": [
        {
          "output_type": "stream",
          "name": "stdout",
          "text": [
            "indoor\n",
            "gt\n",
            "Il numero totale di file nella cartella train_A è: 50\n",
            "Il numero totale di file nella cartella train_B è: 50\n",
            "indoor\n",
            "hazy\n",
            "Il numero totale di file nella cartella train_A è: 500\n",
            "Il numero totale di file nella cartella train_B è: 500\n",
            "outdoor\n",
            "gt\n",
            "Il numero totale di file nella cartella train_A è: 492\n",
            "Il numero totale di file nella cartella train_B è: 492\n",
            "outdoor\n",
            "hazy\n",
            "Il numero totale di file nella cartella train_A è: 500\n",
            "Il numero totale di file nella cartella train_B è: 500\n"
          ]
        }
      ]
    }
  ]
}