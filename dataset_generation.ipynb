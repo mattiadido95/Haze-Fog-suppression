{
  "nbformat": 4,
  "nbformat_minor": 0,
  "metadata": {
    "colab": {
      "provenance": [],
      "gpuType": "T4",
      "authorship_tag": "ABX9TyNiYBQXbdT2jDTH5Qvm99/k",
      "include_colab_link": true
    },
    "kernelspec": {
      "name": "python3",
      "display_name": "Python 3"
    },
    "language_info": {
      "name": "python"
    },
    "accelerator": "GPU"
  },
  "cells": [
    {
      "cell_type": "markdown",
      "metadata": {
        "id": "view-in-github",
        "colab_type": "text"
      },
      "source": [
        "<a href=\"https://colab.research.google.com/github/mattiadido95/Haze-Fog-suppression/blob/main/dataset_generation.ipynb\" target=\"_parent\"><img src=\"https://colab.research.google.com/assets/colab-badge.svg\" alt=\"Open In Colab\"/></a>"
      ]
    },
    {
      "cell_type": "markdown",
      "source": [
        "# Import Libraries"
      ],
      "metadata": {
        "id": "Hym8rYntPPM5"
      }
    },
    {
      "cell_type": "code",
      "source": [
        "from google.colab import drive\n",
        "from google.colab.patches import cv2_imshow\n",
        "import os\n",
        "import gdown\n",
        "import zipfile\n",
        "import cv2\n",
        "import numpy as np"
      ],
      "metadata": {
        "id": "DW2OEAxLB1ni"
      },
      "execution_count": 1,
      "outputs": []
    },
    {
      "cell_type": "code",
      "source": [
        "# mount drive\n",
        "from google.colab import drive\n",
        "drive.mount('/content/drive', force_remount=True)"
      ],
      "metadata": {
        "id": "qMC8BzYnB-Mq",
        "outputId": "174abd91-b4ba-4520-f198-bed5ed538ecb",
        "colab": {
          "base_uri": "https://localhost:8080/"
        }
      },
      "execution_count": 2,
      "outputs": [
        {
          "output_type": "stream",
          "name": "stdout",
          "text": [
            "Mounted at /content/drive\n"
          ]
        }
      ]
    },
    {
      "cell_type": "code",
      "source": [
        "folder_path = \"drive/MyDrive/Haze-Fog-suppression\"\n",
        "os.chdir(folder_path)"
      ],
      "metadata": {
        "id": "0vFtFOdwCHWs"
      },
      "execution_count": 3,
      "outputs": []
    },
    {
      "cell_type": "markdown",
      "source": [
        "# Uncompress Zip files\n"
      ],
      "metadata": {
        "id": "sggYHnmDPVML"
      }
    },
    {
      "cell_type": "code",
      "source": [
        "os.chdir(\"dataset\")\n",
        "current_directory = os.getcwd()\n",
        "\n",
        "#estrae tutti i file zip e cancella il file compresso\n",
        "for file_name in os.listdir(current_directory):\n",
        "    if file_name.endswith(\".zip\"):\n",
        "        path_to_zip_file = os.path.join(current_directory, file_name)\n",
        "        with zipfile.ZipFile(path_to_zip_file, 'r') as zip_ref:\n",
        "            zip_ref.extractall(current_directory)\n",
        "        os.remove(path_to_zip_file)"
      ],
      "metadata": {
        "id": "zHzWVlmXPTKE"
      },
      "execution_count": null,
      "outputs": []
    },
    {
      "cell_type": "markdown",
      "source": [
        "# Generate datasets"
      ],
      "metadata": {
        "id": "CtCqH0djRbcA"
      }
    },
    {
      "cell_type": "code",
      "source": [
        "#`d` sia l'immagine di profondità e `thresholds` sia una lista di tre soglie\n",
        "def compute_transmission_map_Koschmieder(d):\n",
        "    H = d.shape[0]\n",
        "    W = d.shape[1]\n",
        "    vector = d.reshape(H * W * 3)\n",
        "    for pixel_value in vector:\n",
        "      if pixel_value < 50:\n",
        "        pixel_value = 0\n",
        "      elif pixel_value > 50 and pixel_value < 87:\n",
        "        pixel_value = 50\n",
        "      elif pixel_value > 87 and pixel_value < 167:\n",
        "        pixel_value = 87\n",
        "      elif pixel_value > 167 and pixel_value < 209:\n",
        "        pixel_value = 167\n",
        "      else:\n",
        "        pixel_value = 255\n",
        "    normalized = vector.reshape(H, W, 3).astype(np.uint8)\n",
        "    t = np.exp(-0.01 * normalized)\n",
        "    return t\n",
        "\n",
        "def compute_transmission_map_Bruneton(d):\n",
        "  beta = 0.008\n",
        "  cos_theta = -0.8\n",
        "  epsilon = 2\n",
        "  t = np.exp(-beta * d / pow(cos_theta, epsilon))\n",
        "  return t\n"
      ],
      "metadata": {
        "id": "OTuZSsdDqQKU"
      },
      "execution_count": 4,
      "outputs": []
    },
    {
      "cell_type": "code",
      "source": [
        "def compute_cevr(original_image,degraded_image):\n",
        "    max_J = np.max(original_image)\n",
        "    min_J = np.min(original_image)\n",
        "    max_I = np.max(degraded_image)\n",
        "    min_I = np.min(degraded_image)\n",
        "\n",
        "    cevr = (max_J - min_J) / (max_I - min_I)\n",
        "    return cevr"
      ],
      "metadata": {
        "id": "DKg6Cd4AXe1w"
      },
      "execution_count": 43,
      "outputs": []
    },
    {
      "cell_type": "code",
      "source": [
        "# Specifica i parametri\n",
        "# Valore di luce atmosferica (generalmente tra 0 e 255)\n",
        "low_A = 120\n",
        "medium_A = 180\n",
        "high_A = 220\n",
        "\n",
        "low_beta = 0.004\n",
        "medium_beta = 0.006\n",
        "high_beta = 0.008\n",
        "very_high_beta = 0.01\n",
        "\n",
        "path_to_original_images = \"/content/drive/MyDrive/Haze-Fog-suppression/dataset/Vis/\"\n",
        "path_to_depth_maps = \"/content/drive/MyDrive/Haze-Fog-suppression/dataset/DepthMaps/\"\n",
        "path_to_input = \"/content/drive/MyDrive/Haze-Fog-suppression/dataset/train_A/\"\n",
        "path_to_output = \"/content/drive/MyDrive/Haze-Fog-suppression/dataset/train_B/\""
      ],
      "metadata": {
        "id": "1vzu6kb4Ts4b"
      },
      "execution_count": 5,
      "outputs": []
    },
    {
      "cell_type": "code",
      "source": [
        "def generate_fog_image(path_to_original_image,path_to_depth_map,A,beta,img_name,level):\n",
        "    # Carica l'immagine originale e la depth map\n",
        "    J = cv2.imread(path_to_original_image)\n",
        "    d = cv2.imread(path_to_depth_map)\n",
        "\n",
        "    t = np.exp(-beta * d)\n",
        "    I = J * t + A * (1 - t)\n",
        "\n",
        "    cv2.imwrite(path_to_input + img_name[:-4] + \"_\" + str(level) + '.png', np.uint8(I))\n",
        "    cv2.imwrite(path_to_output + img_name[:-4] + \"_\" + str(level) + '.png', np.uint8(J))"
      ],
      "metadata": {
        "id": "-eJkqFeMcwVO"
      },
      "execution_count": 6,
      "outputs": []
    },
    {
      "cell_type": "code",
      "source": [
        "# Scorri tutti i file nella cartella\n",
        "file_ordinati = sorted(os.listdir(path_to_original_images))\n",
        "\n",
        "for nome_file in file_ordinati[:2100]:\n",
        "    path_to_original_image = os.path.join(path_to_original_images, nome_file)\n",
        "    path_to_depth_map = os.path.join(path_to_depth_maps, nome_file)\n",
        "    generate_fog_image(path_to_original_image,path_to_depth_map,low_A,low_beta,nome_file,\"low\")\n",
        "    generate_fog_image(path_to_original_image,path_to_depth_map,medium_A,medium_beta,nome_file,\"medium\")\n",
        "    generate_fog_image(path_to_original_image,path_to_depth_map,high_A,high_beta,nome_file,\"high\")"
      ],
      "metadata": {
        "id": "7DL4zqOJTs_J"
      },
      "execution_count": 7,
      "outputs": []
    },
    {
      "cell_type": "code",
      "source": [
        "# Scorri tutti i file nella cartella\n",
        "file_ordinati = sorted(os.listdir(path_to_original_images))\n",
        "\n",
        "for nome_file in file_ordinati[2100:]:\n",
        "    path_to_original_image = os.path.join(path_to_original_images, nome_file)\n",
        "    path_to_depth_map = os.path.join(path_to_depth_maps, nome_file)\n",
        "    generate_fog_image(path_to_original_image,path_to_depth_map,low_A,low_beta,nome_file,\"low\")\n",
        "    generate_fog_image(path_to_original_image,path_to_depth_map,medium_A,medium_beta,nome_file,\"medium\")\n",
        "    generate_fog_image(path_to_original_image,path_to_depth_map,high_A,high_beta,nome_file,\"high\")"
      ],
      "metadata": {
        "id": "A12ITZgKkL90"
      },
      "execution_count": null,
      "outputs": []
    }
  ]
}