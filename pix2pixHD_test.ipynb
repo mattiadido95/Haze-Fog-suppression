{
  "cells": [
    {
      "cell_type": "markdown",
      "metadata": {
        "id": "view-in-github",
        "colab_type": "text"
      },
      "source": [
        "<a href=\"https://colab.research.google.com/github/mattiadido95/Haze-Fog-suppression/blob/main/pix2pixHD_test.ipynb\" target=\"_parent\"><img src=\"https://colab.research.google.com/assets/colab-badge.svg\" alt=\"Open In Colab\"/></a>"
      ]
    },
    {
      "cell_type": "markdown",
      "source": [
        "# Import Libraries"
      ],
      "metadata": {
        "id": "N-fvIhrKELDf"
      }
    },
    {
      "cell_type": "code",
      "execution_count": 1,
      "metadata": {
        "id": "1pF_YMYXAtxV",
        "outputId": "290b6d5b-9346-406d-b463-0f968d34892d",
        "colab": {
          "base_uri": "https://localhost:8080/"
        }
      },
      "outputs": [
        {
          "output_type": "stream",
          "name": "stdout",
          "text": [
            "Collecting dominate\n",
            "  Downloading dominate-2.8.0-py2.py3-none-any.whl (29 kB)\n",
            "Requirement already satisfied: gdown in /usr/local/lib/python3.10/dist-packages (4.6.6)\n",
            "Requirement already satisfied: filelock in /usr/local/lib/python3.10/dist-packages (from gdown) (3.12.2)\n",
            "Requirement already satisfied: requests[socks] in /usr/local/lib/python3.10/dist-packages (from gdown) (2.31.0)\n",
            "Requirement already satisfied: six in /usr/local/lib/python3.10/dist-packages (from gdown) (1.16.0)\n",
            "Requirement already satisfied: tqdm in /usr/local/lib/python3.10/dist-packages (from gdown) (4.65.0)\n",
            "Requirement already satisfied: beautifulsoup4 in /usr/local/lib/python3.10/dist-packages (from gdown) (4.11.2)\n",
            "Requirement already satisfied: soupsieve>1.2 in /usr/local/lib/python3.10/dist-packages (from beautifulsoup4->gdown) (2.4.1)\n",
            "Requirement already satisfied: charset-normalizer<4,>=2 in /usr/local/lib/python3.10/dist-packages (from requests[socks]->gdown) (3.2.0)\n",
            "Requirement already satisfied: idna<4,>=2.5 in /usr/local/lib/python3.10/dist-packages (from requests[socks]->gdown) (3.4)\n",
            "Requirement already satisfied: urllib3<3,>=1.21.1 in /usr/local/lib/python3.10/dist-packages (from requests[socks]->gdown) (1.26.16)\n",
            "Requirement already satisfied: certifi>=2017.4.17 in /usr/local/lib/python3.10/dist-packages (from requests[socks]->gdown) (2023.7.22)\n",
            "Requirement already satisfied: PySocks!=1.5.7,>=1.5.6 in /usr/local/lib/python3.10/dist-packages (from requests[socks]->gdown) (1.7.1)\n",
            "Installing collected packages: dominate\n",
            "Successfully installed dominate-2.8.0\n"
          ]
        }
      ],
      "source": [
        "!pip install dominate gdown"
      ]
    },
    {
      "cell_type": "code",
      "source": [
        "from google.colab import drive\n",
        "import os\n",
        "import gdown"
      ],
      "metadata": {
        "id": "DW2OEAxLB1ni"
      },
      "execution_count": 2,
      "outputs": []
    },
    {
      "cell_type": "code",
      "source": [
        "# mount drive\n",
        "from google.colab import drive\n",
        "drive.mount('/content/drive', force_remount=True)"
      ],
      "metadata": {
        "id": "qMC8BzYnB-Mq",
        "outputId": "8a8d74bf-85ad-4b95-b5c9-706ec371c568",
        "colab": {
          "base_uri": "https://localhost:8080/"
        }
      },
      "execution_count": 3,
      "outputs": [
        {
          "output_type": "stream",
          "name": "stdout",
          "text": [
            "Mounted at /content/drive\n"
          ]
        }
      ]
    },
    {
      "cell_type": "code",
      "source": [
        "folder_path = \"drive/MyDrive/Haze-Fog-suppression\"\n",
        "os.chdir(folder_path)"
      ],
      "metadata": {
        "id": "0vFtFOdwCHWs"
      },
      "execution_count": 4,
      "outputs": []
    },
    {
      "cell_type": "markdown",
      "source": [
        "# Pix2PixHD download\n"
      ],
      "metadata": {
        "id": "6eqPZHOXEAfp"
      }
    },
    {
      "cell_type": "code",
      "execution_count": null,
      "metadata": {
        "colab": {
          "base_uri": "https://localhost:8080/"
        },
        "id": "-YoX7TkTS9MG",
        "outputId": "09120a1d-5280-4fed-f4ba-e3f727363778"
      },
      "outputs": [
        {
          "output_type": "stream",
          "name": "stdout",
          "text": [
            "Cloning into 'pix2pixHD'...\n",
            "remote: Enumerating objects: 340, done.\u001b[K\n",
            "remote: Total 340 (delta 0), reused 0 (delta 0), pack-reused 340\u001b[K\n",
            "Receiving objects: 100% (340/340), 55.68 MiB | 20.18 MiB/s, done.\n",
            "Resolving deltas: 100% (156/156), done.\n",
            "Updating files: 100% (115/115), done.\n",
            "/content/drive/MyDrive/Haze-suppression/pix2pixHD\n"
          ]
        }
      ],
      "source": [
        "!git clone https://github.com/NVIDIA/pix2pixHD.git\n",
        "os.chdir(\"pix2pixHD\")"
      ]
    },
    {
      "cell_type": "code",
      "execution_count": null,
      "metadata": {
        "id": "LKuREuwyAtxd"
      },
      "outputs": [],
      "source": [
        "os.makedirs(\"./checkpoints/label2city_1024p/\")\n",
        "os.chdir(\"./checkpoints/label2city_1024p/\")"
      ]
    },
    {
      "cell_type": "code",
      "source": [
        "url = 'https://drive.google.com/u/0/uc?id=1h9SykUnuZul7J3Nbms2QGH1wa85nbN2-&export=download'\n",
        "output = 'latest_net_G.pth'\n",
        "gdown.download(url, output, quiet=False)"
      ],
      "metadata": {
        "id": "5VRByC-oFDWv",
        "outputId": "76edc983-ec8a-4868-c3e7-80a9d0229ce1",
        "colab": {
          "base_uri": "https://localhost:8080/",
          "height": 125
        }
      },
      "execution_count": null,
      "outputs": [
        {
          "output_type": "stream",
          "name": "stderr",
          "text": [
            "Downloading...\n",
            "From: https://drive.google.com/u/0/uc?id=1h9SykUnuZul7J3Nbms2QGH1wa85nbN2-&export=download\n",
            "To: /content/drive/MyDrive/Haze-Fog-suppression/pix2pixHD/checkpoints/label2city_1024p/latest_net_G.pth\n",
            "100%|██████████| 732M/732M [00:11<00:00, 62.1MB/s]\n"
          ]
        },
        {
          "output_type": "execute_result",
          "data": {
            "text/plain": [
              "'latest_net_G.pth'"
            ],
            "application/vnd.google.colaboratory.intrinsic+json": {
              "type": "string"
            }
          },
          "metadata": {},
          "execution_count": 19
        }
      ]
    },
    {
      "cell_type": "code",
      "source": [
        "os.chdir(\"../..\")"
      ],
      "metadata": {
        "id": "zpELF8NXHBsE"
      },
      "execution_count": null,
      "outputs": []
    },
    {
      "cell_type": "markdown",
      "source": [
        "# Pix2PixHD Train\n"
      ],
      "metadata": {
        "id": "CFdeWg-Sqj6O"
      }
    },
    {
      "cell_type": "code",
      "source": [
        "%cd pix2pixHD/"
      ],
      "metadata": {
        "id": "RxD4lD7grQjI",
        "outputId": "e1dec62f-5ca0-4182-c989-e6b0c0fa137e",
        "colab": {
          "base_uri": "https://localhost:8080/"
        }
      },
      "execution_count": 5,
      "outputs": [
        {
          "output_type": "stream",
          "name": "stdout",
          "text": [
            "/content/drive/MyDrive/Haze-Fog-suppression/pix2pixHD\n"
          ]
        }
      ]
    },
    {
      "cell_type": "code",
      "source": [
        "#os.environ[\"PYTORCH_CUDA_ALLOC_CONF\"] = \"max_split_size_mb:1000\"\n",
        "\n",
        "#training on low resolution only G1\n",
        "!python train.py --load_pretrain checkpoints/nebbia/ --label_nc 0 --no_instance --name nebbia --dataroot ./datasets/nebbia --resize_or_crop crop --fineSize 512 --batchSize 4"
      ],
      "metadata": {
        "id": "cBS7uIxAqn6W",
        "outputId": "562d6f7f-83ed-42f1-bd49-ac34eae3924d",
        "colab": {
          "base_uri": "https://localhost:8080/"
        }
      },
      "execution_count": 6,
      "outputs": [
        {
          "output_type": "stream",
          "name": "stdout",
          "text": [
            "------------ Options -------------\n",
            "batchSize: 4\n",
            "beta1: 0.5\n",
            "checkpoints_dir: ./checkpoints\n",
            "continue_train: False\n",
            "data_type: 32\n",
            "dataroot: ./datasets/nebbia\n",
            "debug: False\n",
            "display_freq: 100\n",
            "display_winsize: 512\n",
            "feat_num: 3\n",
            "fineSize: 512\n",
            "fp16: False\n",
            "gpu_ids: [0]\n",
            "input_nc: 3\n",
            "instance_feat: False\n",
            "isTrain: True\n",
            "label_feat: False\n",
            "label_nc: 0\n",
            "lambda_feat: 10.0\n",
            "loadSize: 1024\n",
            "load_features: False\n",
            "load_pretrain: \n",
            "local_rank: 0\n",
            "lr: 0.0002\n",
            "max_dataset_size: inf\n",
            "model: pix2pixHD\n",
            "nThreads: 2\n",
            "n_blocks_global: 9\n",
            "n_blocks_local: 3\n",
            "n_clusters: 10\n",
            "n_downsample_E: 4\n",
            "n_downsample_global: 4\n",
            "n_layers_D: 3\n",
            "n_local_enhancers: 1\n",
            "name: nebbia\n",
            "ndf: 64\n",
            "nef: 16\n",
            "netG: global\n",
            "ngf: 64\n",
            "niter: 100\n",
            "niter_decay: 100\n",
            "niter_fix_global: 0\n",
            "no_flip: False\n",
            "no_ganFeat_loss: False\n",
            "no_html: False\n",
            "no_instance: True\n",
            "no_lsgan: False\n",
            "no_vgg_loss: False\n",
            "norm: instance\n",
            "num_D: 2\n",
            "output_nc: 3\n",
            "phase: train\n",
            "pool_size: 0\n",
            "print_freq: 100\n",
            "resize_or_crop: crop\n",
            "save_epoch_freq: 10\n",
            "save_latest_freq: 1000\n",
            "serial_batches: False\n",
            "tf_log: False\n",
            "use_dropout: False\n",
            "verbose: False\n",
            "which_epoch: latest\n",
            "-------------- End ----------------\n",
            "CustomDatasetDataLoader\n",
            "dataset [AlignedDataset] was created\n",
            "#training images = 4200\n",
            "GlobalGenerator(\n",
            "  (model): Sequential(\n",
            "    (0): ReflectionPad2d((3, 3, 3, 3))\n",
            "    (1): Conv2d(3, 64, kernel_size=(7, 7), stride=(1, 1))\n",
            "    (2): InstanceNorm2d(64, eps=1e-05, momentum=0.1, affine=False, track_running_stats=False)\n",
            "    (3): ReLU(inplace=True)\n",
            "    (4): Conv2d(64, 128, kernel_size=(3, 3), stride=(2, 2), padding=(1, 1))\n",
            "    (5): InstanceNorm2d(128, eps=1e-05, momentum=0.1, affine=False, track_running_stats=False)\n",
            "    (6): ReLU(inplace=True)\n",
            "    (7): Conv2d(128, 256, kernel_size=(3, 3), stride=(2, 2), padding=(1, 1))\n",
            "    (8): InstanceNorm2d(256, eps=1e-05, momentum=0.1, affine=False, track_running_stats=False)\n",
            "    (9): ReLU(inplace=True)\n",
            "    (10): Conv2d(256, 512, kernel_size=(3, 3), stride=(2, 2), padding=(1, 1))\n",
            "    (11): InstanceNorm2d(512, eps=1e-05, momentum=0.1, affine=False, track_running_stats=False)\n",
            "    (12): ReLU(inplace=True)\n",
            "    (13): Conv2d(512, 1024, kernel_size=(3, 3), stride=(2, 2), padding=(1, 1))\n",
            "    (14): InstanceNorm2d(1024, eps=1e-05, momentum=0.1, affine=False, track_running_stats=False)\n",
            "    (15): ReLU(inplace=True)\n",
            "    (16): ResnetBlock(\n",
            "      (conv_block): Sequential(\n",
            "        (0): ReflectionPad2d((1, 1, 1, 1))\n",
            "        (1): Conv2d(1024, 1024, kernel_size=(3, 3), stride=(1, 1))\n",
            "        (2): InstanceNorm2d(1024, eps=1e-05, momentum=0.1, affine=False, track_running_stats=False)\n",
            "        (3): ReLU(inplace=True)\n",
            "        (4): ReflectionPad2d((1, 1, 1, 1))\n",
            "        (5): Conv2d(1024, 1024, kernel_size=(3, 3), stride=(1, 1))\n",
            "        (6): InstanceNorm2d(1024, eps=1e-05, momentum=0.1, affine=False, track_running_stats=False)\n",
            "      )\n",
            "    )\n",
            "    (17): ResnetBlock(\n",
            "      (conv_block): Sequential(\n",
            "        (0): ReflectionPad2d((1, 1, 1, 1))\n",
            "        (1): Conv2d(1024, 1024, kernel_size=(3, 3), stride=(1, 1))\n",
            "        (2): InstanceNorm2d(1024, eps=1e-05, momentum=0.1, affine=False, track_running_stats=False)\n",
            "        (3): ReLU(inplace=True)\n",
            "        (4): ReflectionPad2d((1, 1, 1, 1))\n",
            "        (5): Conv2d(1024, 1024, kernel_size=(3, 3), stride=(1, 1))\n",
            "        (6): InstanceNorm2d(1024, eps=1e-05, momentum=0.1, affine=False, track_running_stats=False)\n",
            "      )\n",
            "    )\n",
            "    (18): ResnetBlock(\n",
            "      (conv_block): Sequential(\n",
            "        (0): ReflectionPad2d((1, 1, 1, 1))\n",
            "        (1): Conv2d(1024, 1024, kernel_size=(3, 3), stride=(1, 1))\n",
            "        (2): InstanceNorm2d(1024, eps=1e-05, momentum=0.1, affine=False, track_running_stats=False)\n",
            "        (3): ReLU(inplace=True)\n",
            "        (4): ReflectionPad2d((1, 1, 1, 1))\n",
            "        (5): Conv2d(1024, 1024, kernel_size=(3, 3), stride=(1, 1))\n",
            "        (6): InstanceNorm2d(1024, eps=1e-05, momentum=0.1, affine=False, track_running_stats=False)\n",
            "      )\n",
            "    )\n",
            "    (19): ResnetBlock(\n",
            "      (conv_block): Sequential(\n",
            "        (0): ReflectionPad2d((1, 1, 1, 1))\n",
            "        (1): Conv2d(1024, 1024, kernel_size=(3, 3), stride=(1, 1))\n",
            "        (2): InstanceNorm2d(1024, eps=1e-05, momentum=0.1, affine=False, track_running_stats=False)\n",
            "        (3): ReLU(inplace=True)\n",
            "        (4): ReflectionPad2d((1, 1, 1, 1))\n",
            "        (5): Conv2d(1024, 1024, kernel_size=(3, 3), stride=(1, 1))\n",
            "        (6): InstanceNorm2d(1024, eps=1e-05, momentum=0.1, affine=False, track_running_stats=False)\n",
            "      )\n",
            "    )\n",
            "    (20): ResnetBlock(\n",
            "      (conv_block): Sequential(\n",
            "        (0): ReflectionPad2d((1, 1, 1, 1))\n",
            "        (1): Conv2d(1024, 1024, kernel_size=(3, 3), stride=(1, 1))\n",
            "        (2): InstanceNorm2d(1024, eps=1e-05, momentum=0.1, affine=False, track_running_stats=False)\n",
            "        (3): ReLU(inplace=True)\n",
            "        (4): ReflectionPad2d((1, 1, 1, 1))\n",
            "        (5): Conv2d(1024, 1024, kernel_size=(3, 3), stride=(1, 1))\n",
            "        (6): InstanceNorm2d(1024, eps=1e-05, momentum=0.1, affine=False, track_running_stats=False)\n",
            "      )\n",
            "    )\n",
            "    (21): ResnetBlock(\n",
            "      (conv_block): Sequential(\n",
            "        (0): ReflectionPad2d((1, 1, 1, 1))\n",
            "        (1): Conv2d(1024, 1024, kernel_size=(3, 3), stride=(1, 1))\n",
            "        (2): InstanceNorm2d(1024, eps=1e-05, momentum=0.1, affine=False, track_running_stats=False)\n",
            "        (3): ReLU(inplace=True)\n",
            "        (4): ReflectionPad2d((1, 1, 1, 1))\n",
            "        (5): Conv2d(1024, 1024, kernel_size=(3, 3), stride=(1, 1))\n",
            "        (6): InstanceNorm2d(1024, eps=1e-05, momentum=0.1, affine=False, track_running_stats=False)\n",
            "      )\n",
            "    )\n",
            "    (22): ResnetBlock(\n",
            "      (conv_block): Sequential(\n",
            "        (0): ReflectionPad2d((1, 1, 1, 1))\n",
            "        (1): Conv2d(1024, 1024, kernel_size=(3, 3), stride=(1, 1))\n",
            "        (2): InstanceNorm2d(1024, eps=1e-05, momentum=0.1, affine=False, track_running_stats=False)\n",
            "        (3): ReLU(inplace=True)\n",
            "        (4): ReflectionPad2d((1, 1, 1, 1))\n",
            "        (5): Conv2d(1024, 1024, kernel_size=(3, 3), stride=(1, 1))\n",
            "        (6): InstanceNorm2d(1024, eps=1e-05, momentum=0.1, affine=False, track_running_stats=False)\n",
            "      )\n",
            "    )\n",
            "    (23): ResnetBlock(\n",
            "      (conv_block): Sequential(\n",
            "        (0): ReflectionPad2d((1, 1, 1, 1))\n",
            "        (1): Conv2d(1024, 1024, kernel_size=(3, 3), stride=(1, 1))\n",
            "        (2): InstanceNorm2d(1024, eps=1e-05, momentum=0.1, affine=False, track_running_stats=False)\n",
            "        (3): ReLU(inplace=True)\n",
            "        (4): ReflectionPad2d((1, 1, 1, 1))\n",
            "        (5): Conv2d(1024, 1024, kernel_size=(3, 3), stride=(1, 1))\n",
            "        (6): InstanceNorm2d(1024, eps=1e-05, momentum=0.1, affine=False, track_running_stats=False)\n",
            "      )\n",
            "    )\n",
            "    (24): ResnetBlock(\n",
            "      (conv_block): Sequential(\n",
            "        (0): ReflectionPad2d((1, 1, 1, 1))\n",
            "        (1): Conv2d(1024, 1024, kernel_size=(3, 3), stride=(1, 1))\n",
            "        (2): InstanceNorm2d(1024, eps=1e-05, momentum=0.1, affine=False, track_running_stats=False)\n",
            "        (3): ReLU(inplace=True)\n",
            "        (4): ReflectionPad2d((1, 1, 1, 1))\n",
            "        (5): Conv2d(1024, 1024, kernel_size=(3, 3), stride=(1, 1))\n",
            "        (6): InstanceNorm2d(1024, eps=1e-05, momentum=0.1, affine=False, track_running_stats=False)\n",
            "      )\n",
            "    )\n",
            "    (25): ConvTranspose2d(1024, 512, kernel_size=(3, 3), stride=(2, 2), padding=(1, 1), output_padding=(1, 1))\n",
            "    (26): InstanceNorm2d(512, eps=1e-05, momentum=0.1, affine=False, track_running_stats=False)\n",
            "    (27): ReLU(inplace=True)\n",
            "    (28): ConvTranspose2d(512, 256, kernel_size=(3, 3), stride=(2, 2), padding=(1, 1), output_padding=(1, 1))\n",
            "    (29): InstanceNorm2d(256, eps=1e-05, momentum=0.1, affine=False, track_running_stats=False)\n",
            "    (30): ReLU(inplace=True)\n",
            "    (31): ConvTranspose2d(256, 128, kernel_size=(3, 3), stride=(2, 2), padding=(1, 1), output_padding=(1, 1))\n",
            "    (32): InstanceNorm2d(128, eps=1e-05, momentum=0.1, affine=False, track_running_stats=False)\n",
            "    (33): ReLU(inplace=True)\n",
            "    (34): ConvTranspose2d(128, 64, kernel_size=(3, 3), stride=(2, 2), padding=(1, 1), output_padding=(1, 1))\n",
            "    (35): InstanceNorm2d(64, eps=1e-05, momentum=0.1, affine=False, track_running_stats=False)\n",
            "    (36): ReLU(inplace=True)\n",
            "    (37): ReflectionPad2d((3, 3, 3, 3))\n",
            "    (38): Conv2d(64, 3, kernel_size=(7, 7), stride=(1, 1))\n",
            "    (39): Tanh()\n",
            "  )\n",
            ")\n",
            "MultiscaleDiscriminator(\n",
            "  (scale0_layer0): Sequential(\n",
            "    (0): Conv2d(6, 64, kernel_size=(4, 4), stride=(2, 2), padding=(2, 2))\n",
            "    (1): LeakyReLU(negative_slope=0.2, inplace=True)\n",
            "  )\n",
            "  (scale0_layer1): Sequential(\n",
            "    (0): Conv2d(64, 128, kernel_size=(4, 4), stride=(2, 2), padding=(2, 2))\n",
            "    (1): InstanceNorm2d(128, eps=1e-05, momentum=0.1, affine=False, track_running_stats=False)\n",
            "    (2): LeakyReLU(negative_slope=0.2, inplace=True)\n",
            "  )\n",
            "  (scale0_layer2): Sequential(\n",
            "    (0): Conv2d(128, 256, kernel_size=(4, 4), stride=(2, 2), padding=(2, 2))\n",
            "    (1): InstanceNorm2d(256, eps=1e-05, momentum=0.1, affine=False, track_running_stats=False)\n",
            "    (2): LeakyReLU(negative_slope=0.2, inplace=True)\n",
            "  )\n",
            "  (scale0_layer3): Sequential(\n",
            "    (0): Conv2d(256, 512, kernel_size=(4, 4), stride=(1, 1), padding=(2, 2))\n",
            "    (1): InstanceNorm2d(512, eps=1e-05, momentum=0.1, affine=False, track_running_stats=False)\n",
            "    (2): LeakyReLU(negative_slope=0.2, inplace=True)\n",
            "  )\n",
            "  (scale0_layer4): Sequential(\n",
            "    (0): Conv2d(512, 1, kernel_size=(4, 4), stride=(1, 1), padding=(2, 2))\n",
            "  )\n",
            "  (scale1_layer0): Sequential(\n",
            "    (0): Conv2d(6, 64, kernel_size=(4, 4), stride=(2, 2), padding=(2, 2))\n",
            "    (1): LeakyReLU(negative_slope=0.2, inplace=True)\n",
            "  )\n",
            "  (scale1_layer1): Sequential(\n",
            "    (0): Conv2d(64, 128, kernel_size=(4, 4), stride=(2, 2), padding=(2, 2))\n",
            "    (1): InstanceNorm2d(128, eps=1e-05, momentum=0.1, affine=False, track_running_stats=False)\n",
            "    (2): LeakyReLU(negative_slope=0.2, inplace=True)\n",
            "  )\n",
            "  (scale1_layer2): Sequential(\n",
            "    (0): Conv2d(128, 256, kernel_size=(4, 4), stride=(2, 2), padding=(2, 2))\n",
            "    (1): InstanceNorm2d(256, eps=1e-05, momentum=0.1, affine=False, track_running_stats=False)\n",
            "    (2): LeakyReLU(negative_slope=0.2, inplace=True)\n",
            "  )\n",
            "  (scale1_layer3): Sequential(\n",
            "    (0): Conv2d(256, 512, kernel_size=(4, 4), stride=(1, 1), padding=(2, 2))\n",
            "    (1): InstanceNorm2d(512, eps=1e-05, momentum=0.1, affine=False, track_running_stats=False)\n",
            "    (2): LeakyReLU(negative_slope=0.2, inplace=True)\n",
            "  )\n",
            "  (scale1_layer4): Sequential(\n",
            "    (0): Conv2d(512, 1, kernel_size=(4, 4), stride=(1, 1), padding=(2, 2))\n",
            "  )\n",
            "  (downsample): AvgPool2d(kernel_size=3, stride=2, padding=[1, 1])\n",
            ")\n",
            "/usr/local/lib/python3.10/dist-packages/torchvision/models/_utils.py:208: UserWarning: The parameter 'pretrained' is deprecated since 0.13 and may be removed in the future, please use 'weights' instead.\n",
            "  warnings.warn(\n",
            "/usr/local/lib/python3.10/dist-packages/torchvision/models/_utils.py:223: UserWarning: Arguments other than a weight enum or `None` for 'weights' are deprecated since 0.13 and may be removed in the future. The current behavior is equivalent to passing `weights=VGG19_Weights.IMAGENET1K_V1`. You can also use `weights=VGG19_Weights.DEFAULT` to get the most up-to-date weights.\n",
            "  warnings.warn(msg)\n",
            "Downloading: \"https://download.pytorch.org/models/vgg19-dcbb9e9d.pth\" to /root/.cache/torch/hub/checkpoints/vgg19-dcbb9e9d.pth\n",
            "100% 548M/548M [00:10<00:00, 54.0MB/s]\n",
            "create web directory ./checkpoints/nebbia/web...\n",
            "(epoch: 1, iters: 100, time: 1.120) G_GAN: 2.991 G_GAN_Feat: 12.395 G_VGG: 6.034 D_real: 2.219 D_fake: 2.491 \n",
            "(epoch: 1, iters: 200, time: 0.891) G_GAN: 1.448 G_GAN_Feat: 11.308 G_VGG: 5.545 D_real: 0.849 D_fake: 0.890 \n",
            "(epoch: 1, iters: 300, time: 0.926) G_GAN: 1.973 G_GAN_Feat: 10.728 G_VGG: 5.919 D_real: 1.320 D_fake: 1.588 \n",
            "(epoch: 1, iters: 400, time: 0.937) G_GAN: 1.052 G_GAN_Feat: 10.246 G_VGG: 5.861 D_real: 0.647 D_fake: 0.628 \n",
            "(epoch: 1, iters: 500, time: 0.894) G_GAN: 0.951 G_GAN_Feat: 8.671 G_VGG: 6.157 D_real: 0.503 D_fake: 0.402 \n",
            "(epoch: 1, iters: 600, time: 0.953) G_GAN: 1.136 G_GAN_Feat: 8.617 G_VGG: 6.014 D_real: 0.563 D_fake: 0.634 \n",
            "(epoch: 1, iters: 700, time: 0.910) G_GAN: 0.940 G_GAN_Feat: 7.991 G_VGG: 4.053 D_real: 0.428 D_fake: 0.426 \n",
            "(epoch: 1, iters: 800, time: 0.885) G_GAN: 1.255 G_GAN_Feat: 9.012 G_VGG: 5.856 D_real: 0.537 D_fake: 0.329 \n",
            "(epoch: 1, iters: 900, time: 0.892) G_GAN: 1.433 G_GAN_Feat: 9.024 G_VGG: 5.264 D_real: 0.472 D_fake: 0.172 \n",
            "(epoch: 1, iters: 1000, time: 0.887) G_GAN: 0.925 G_GAN_Feat: 7.464 G_VGG: 5.592 D_real: 0.524 D_fake: 0.531 \n",
            "saving the latest model (epoch 1, total_steps 1000)\n",
            "(epoch: 1, iters: 1100, time: 0.817) G_GAN: 0.988 G_GAN_Feat: 7.783 G_VGG: 5.784 D_real: 0.349 D_fake: 0.349 \n",
            "(epoch: 1, iters: 1200, time: 0.894) G_GAN: 0.999 G_GAN_Feat: 9.367 G_VGG: 7.057 D_real: 0.437 D_fake: 0.487 \n",
            "(epoch: 1, iters: 1300, time: 0.894) G_GAN: 1.165 G_GAN_Feat: 7.855 G_VGG: 6.438 D_real: 0.302 D_fake: 0.254 \n",
            "(epoch: 1, iters: 1400, time: 0.900) G_GAN: 1.450 G_GAN_Feat: 7.731 G_VGG: 4.717 D_real: 0.352 D_fake: 0.312 \n",
            "(epoch: 1, iters: 1500, time: 0.880) G_GAN: 0.918 G_GAN_Feat: 7.832 G_VGG: 5.358 D_real: 0.353 D_fake: 0.305 \n",
            "(epoch: 1, iters: 1600, time: 0.918) G_GAN: 0.877 G_GAN_Feat: 8.843 G_VGG: 6.627 D_real: 0.208 D_fake: 0.367 \n",
            "(epoch: 1, iters: 1700, time: 0.915) G_GAN: 1.292 G_GAN_Feat: 7.779 G_VGG: 5.017 D_real: 0.328 D_fake: 0.191 \n",
            "(epoch: 1, iters: 1800, time: 0.917) G_GAN: 0.989 G_GAN_Feat: 7.932 G_VGG: 6.427 D_real: 0.300 D_fake: 0.326 \n",
            "(epoch: 1, iters: 1900, time: 0.904) G_GAN: 1.031 G_GAN_Feat: 7.828 G_VGG: 5.143 D_real: 0.304 D_fake: 0.268 \n",
            "(epoch: 1, iters: 2000, time: 0.928) G_GAN: 1.379 G_GAN_Feat: 9.059 G_VGG: 4.891 D_real: 0.412 D_fake: 0.204 \n",
            "saving the latest model (epoch 1, total_steps 2000)\n",
            "(epoch: 1, iters: 2100, time: 0.930) G_GAN: 1.424 G_GAN_Feat: 6.616 G_VGG: 5.631 D_real: 0.821 D_fake: 0.718 \n",
            "(epoch: 1, iters: 2200, time: 0.915) G_GAN: 0.904 G_GAN_Feat: 6.548 G_VGG: 5.381 D_real: 0.384 D_fake: 0.351 \n",
            "(epoch: 1, iters: 2300, time: 0.943) G_GAN: 1.028 G_GAN_Feat: 7.203 G_VGG: 6.285 D_real: 0.377 D_fake: 0.281 \n",
            "(epoch: 1, iters: 2400, time: 0.939) G_GAN: 1.111 G_GAN_Feat: 7.865 G_VGG: 5.370 D_real: 0.335 D_fake: 0.292 \n",
            "(epoch: 1, iters: 2500, time: 0.921) G_GAN: 0.930 G_GAN_Feat: 7.216 G_VGG: 6.264 D_real: 0.203 D_fake: 0.339 \n",
            "(epoch: 1, iters: 2600, time: 0.947) G_GAN: 1.183 G_GAN_Feat: 7.356 G_VGG: 4.244 D_real: 0.237 D_fake: 0.244 \n",
            "(epoch: 1, iters: 2700, time: 0.946) G_GAN: 1.472 G_GAN_Feat: 6.949 G_VGG: 5.504 D_real: 0.617 D_fake: 0.151 \n",
            "(epoch: 1, iters: 2800, time: 0.946) G_GAN: 0.953 G_GAN_Feat: 7.078 G_VGG: 5.890 D_real: 0.275 D_fake: 0.419 \n",
            "(epoch: 1, iters: 2900, time: 0.944) G_GAN: 1.122 G_GAN_Feat: 6.364 G_VGG: 6.622 D_real: 0.316 D_fake: 0.383 \n",
            "(epoch: 1, iters: 3000, time: 0.916) G_GAN: 0.903 G_GAN_Feat: 7.797 G_VGG: 5.349 D_real: 0.178 D_fake: 0.490 \n",
            "saving the latest model (epoch 1, total_steps 3000)\n",
            "(epoch: 1, iters: 3100, time: 0.916) G_GAN: 1.157 G_GAN_Feat: 6.136 G_VGG: 4.316 D_real: 0.471 D_fake: 0.271 \n",
            "(epoch: 1, iters: 3200, time: 0.921) G_GAN: 1.136 G_GAN_Feat: 6.773 G_VGG: 4.697 D_real: 0.187 D_fake: 0.351 \n",
            "(epoch: 1, iters: 3300, time: 0.906) G_GAN: 1.106 G_GAN_Feat: 6.709 G_VGG: 6.361 D_real: 0.454 D_fake: 0.345 \n",
            "(epoch: 1, iters: 3400, time: 0.919) G_GAN: 1.460 G_GAN_Feat: 7.645 G_VGG: 6.421 D_real: 0.442 D_fake: 0.183 \n",
            "(epoch: 1, iters: 3500, time: 0.941) G_GAN: 1.236 G_GAN_Feat: 6.747 G_VGG: 5.264 D_real: 0.273 D_fake: 0.161 \n",
            "(epoch: 1, iters: 3600, time: 0.925) G_GAN: 0.962 G_GAN_Feat: 7.433 G_VGG: 5.322 D_real: 0.364 D_fake: 0.343 \n",
            "(epoch: 1, iters: 3700, time: 0.954) G_GAN: 1.560 G_GAN_Feat: 8.062 G_VGG: 5.504 D_real: 0.213 D_fake: 0.219 \n",
            "(epoch: 1, iters: 3800, time: 0.924) G_GAN: 0.619 G_GAN_Feat: 5.431 G_VGG: 3.988 D_real: 0.369 D_fake: 0.535 \n",
            "(epoch: 1, iters: 3900, time: 0.920) G_GAN: 0.871 G_GAN_Feat: 6.896 G_VGG: 4.263 D_real: 0.376 D_fake: 0.313 \n",
            "(epoch: 1, iters: 4000, time: 0.938) G_GAN: 1.130 G_GAN_Feat: 5.177 G_VGG: 5.434 D_real: 0.742 D_fake: 0.230 \n",
            "saving the latest model (epoch 1, total_steps 4000)\n",
            "(epoch: 1, iters: 4100, time: 0.894) G_GAN: 0.419 G_GAN_Feat: 5.357 G_VGG: 5.233 D_real: 0.256 D_fake: 0.682 \n",
            "(epoch: 1, iters: 4200, time: 0.932) G_GAN: 0.489 G_GAN_Feat: 4.144 G_VGG: 5.538 D_real: 0.365 D_fake: 0.649 \n",
            "End of epoch 1 / 200 \t Time Taken: 3980 sec\n",
            "(epoch: 2, iters: 100, time: 0.582) G_GAN: 1.120 G_GAN_Feat: 4.940 G_VGG: 4.942 D_real: 0.562 D_fake: 0.335 \n",
            "(epoch: 2, iters: 200, time: 0.580) G_GAN: 0.927 G_GAN_Feat: 4.576 G_VGG: 4.771 D_real: 0.432 D_fake: 0.318 \n",
            "(epoch: 2, iters: 300, time: 0.582) G_GAN: 1.084 G_GAN_Feat: 6.664 G_VGG: 5.373 D_real: 0.235 D_fake: 0.233 \n",
            "(epoch: 2, iters: 400, time: 0.578) G_GAN: 0.970 G_GAN_Feat: 5.076 G_VGG: 4.852 D_real: 0.248 D_fake: 0.413 \n",
            "(epoch: 2, iters: 500, time: 0.578) G_GAN: 1.445 G_GAN_Feat: 7.080 G_VGG: 4.111 D_real: 0.745 D_fake: 0.199 \n",
            "(epoch: 2, iters: 600, time: 0.580) G_GAN: 1.171 G_GAN_Feat: 5.628 G_VGG: 5.247 D_real: 0.296 D_fake: 0.225 \n",
            "(epoch: 2, iters: 700, time: 0.580) G_GAN: 0.768 G_GAN_Feat: 5.487 G_VGG: 3.973 D_real: 0.519 D_fake: 0.508 \n",
            "(epoch: 2, iters: 800, time: 0.578) G_GAN: 1.316 G_GAN_Feat: 6.615 G_VGG: 4.646 D_real: 0.259 D_fake: 0.198 \n",
            "saving the latest model (epoch 2, total_steps 5000)\n",
            "(epoch: 2, iters: 900, time: 0.584) G_GAN: 1.519 G_GAN_Feat: 4.671 G_VGG: 4.497 D_real: 0.845 D_fake: 0.170 \n",
            "(epoch: 2, iters: 1000, time: 0.580) G_GAN: 1.160 G_GAN_Feat: 6.566 G_VGG: 5.101 D_real: 0.465 D_fake: 0.219 \n",
            "(epoch: 2, iters: 1100, time: 0.579) G_GAN: 0.987 G_GAN_Feat: 6.127 G_VGG: 3.950 D_real: 0.414 D_fake: 0.317 \n",
            "(epoch: 2, iters: 1200, time: 0.580) G_GAN: 0.780 G_GAN_Feat: 4.586 G_VGG: 4.299 D_real: 0.175 D_fake: 0.481 \n",
            "(epoch: 2, iters: 1300, time: 0.580) G_GAN: 0.313 G_GAN_Feat: 5.661 G_VGG: 4.250 D_real: 0.183 D_fake: 1.055 \n",
            "(epoch: 2, iters: 1400, time: 0.579) G_GAN: 0.981 G_GAN_Feat: 6.526 G_VGG: 4.674 D_real: 0.257 D_fake: 0.392 \n",
            "(epoch: 2, iters: 1500, time: 0.578) G_GAN: 1.103 G_GAN_Feat: 5.420 G_VGG: 4.406 D_real: 0.520 D_fake: 0.258 \n",
            "(epoch: 2, iters: 1600, time: 0.580) G_GAN: 1.053 G_GAN_Feat: 5.604 G_VGG: 5.253 D_real: 0.339 D_fake: 0.302 \n",
            "(epoch: 2, iters: 1700, time: 0.580) G_GAN: 1.104 G_GAN_Feat: 5.844 G_VGG: 5.840 D_real: 0.147 D_fake: 0.396 \n",
            "(epoch: 2, iters: 1800, time: 0.580) G_GAN: 1.202 G_GAN_Feat: 5.855 G_VGG: 3.366 D_real: 0.400 D_fake: 0.260 \n",
            "saving the latest model (epoch 2, total_steps 6000)\n",
            "(epoch: 2, iters: 1900, time: 0.584) G_GAN: 0.916 G_GAN_Feat: 4.839 G_VGG: 4.554 D_real: 0.372 D_fake: 0.325 \n",
            "(epoch: 2, iters: 2000, time: 0.579) G_GAN: 1.054 G_GAN_Feat: 5.640 G_VGG: 5.699 D_real: 0.128 D_fake: 0.262 \n",
            "(epoch: 2, iters: 2100, time: 0.579) G_GAN: 1.270 G_GAN_Feat: 5.865 G_VGG: 4.305 D_real: 0.165 D_fake: 0.153 \n",
            "(epoch: 2, iters: 2200, time: 0.580) G_GAN: 1.032 G_GAN_Feat: 6.354 G_VGG: 5.215 D_real: 0.232 D_fake: 0.349 \n",
            "(epoch: 2, iters: 2300, time: 0.580) G_GAN: 1.498 G_GAN_Feat: 4.833 G_VGG: 3.997 D_real: 0.452 D_fake: 0.110 \n",
            "(epoch: 2, iters: 2400, time: 0.579) G_GAN: 1.636 G_GAN_Feat: 5.388 G_VGG: 4.216 D_real: 0.383 D_fake: 0.093 \n",
            "(epoch: 2, iters: 2500, time: 0.578) G_GAN: 1.414 G_GAN_Feat: 6.452 G_VGG: 4.293 D_real: 0.446 D_fake: 0.138 \n",
            "(epoch: 2, iters: 2600, time: 0.581) G_GAN: 1.921 G_GAN_Feat: 5.530 G_VGG: 4.130 D_real: 0.418 D_fake: 0.081 \n",
            "(epoch: 2, iters: 2700, time: 0.577) G_GAN: 0.947 G_GAN_Feat: 6.401 G_VGG: 3.490 D_real: 0.392 D_fake: 0.308 \n",
            "(epoch: 2, iters: 2800, time: 0.581) G_GAN: 0.931 G_GAN_Feat: 6.070 G_VGG: 4.188 D_real: 0.221 D_fake: 0.313 \n",
            "saving the latest model (epoch 2, total_steps 7000)\n",
            "(epoch: 2, iters: 2900, time: 0.582) G_GAN: 1.555 G_GAN_Feat: 6.523 G_VGG: 4.525 D_real: 0.256 D_fake: 0.126 \n",
            "(epoch: 2, iters: 3000, time: 0.579) G_GAN: 1.078 G_GAN_Feat: 6.402 G_VGG: 4.766 D_real: 0.323 D_fake: 0.368 \n",
            "(epoch: 2, iters: 3100, time: 0.579) G_GAN: 1.647 G_GAN_Feat: 6.666 G_VGG: 4.377 D_real: 0.861 D_fake: 0.344 \n",
            "(epoch: 2, iters: 3200, time: 0.580) G_GAN: 1.265 G_GAN_Feat: 7.204 G_VGG: 4.260 D_real: 0.243 D_fake: 0.181 \n",
            "(epoch: 2, iters: 3300, time: 0.581) G_GAN: 1.616 G_GAN_Feat: 4.591 G_VGG: 4.331 D_real: 0.655 D_fake: 0.159 \n",
            "(epoch: 2, iters: 3400, time: 0.576) G_GAN: 1.176 G_GAN_Feat: 6.123 G_VGG: 3.972 D_real: 0.107 D_fake: 0.334 \n",
            "(epoch: 2, iters: 3500, time: 0.582) G_GAN: 1.616 G_GAN_Feat: 5.320 G_VGG: 4.540 D_real: 0.562 D_fake: 0.171 \n",
            "(epoch: 2, iters: 3600, time: 0.578) G_GAN: 1.346 G_GAN_Feat: 4.684 G_VGG: 4.736 D_real: 0.378 D_fake: 0.157 \n",
            "(epoch: 2, iters: 3700, time: 0.582) G_GAN: 1.009 G_GAN_Feat: 5.761 G_VGG: 3.871 D_real: 0.413 D_fake: 0.357 \n",
            "(epoch: 2, iters: 3800, time: 0.579) G_GAN: 1.862 G_GAN_Feat: 5.221 G_VGG: 4.080 D_real: 0.528 D_fake: 0.046 \n",
            "saving the latest model (epoch 2, total_steps 8000)\n",
            "(epoch: 2, iters: 3900, time: 0.584) G_GAN: 0.957 G_GAN_Feat: 4.453 G_VGG: 3.874 D_real: 0.635 D_fake: 0.854 \n",
            "(epoch: 2, iters: 4000, time: 0.579) G_GAN: 1.180 G_GAN_Feat: 5.100 G_VGG: 4.607 D_real: 0.293 D_fake: 0.284 \n",
            "(epoch: 2, iters: 4100, time: 0.581) G_GAN: 1.235 G_GAN_Feat: 4.448 G_VGG: 3.834 D_real: 0.461 D_fake: 0.184 \n",
            "(epoch: 2, iters: 4200, time: 0.579) G_GAN: 0.761 G_GAN_Feat: 4.897 G_VGG: 3.688 D_real: 0.261 D_fake: 0.420 \n",
            "End of epoch 2 / 200 \t Time Taken: 2461 sec\n",
            "(epoch: 3, iters: 100, time: 0.579) G_GAN: 0.873 G_GAN_Feat: 5.730 G_VGG: 2.617 D_real: 0.330 D_fake: 0.352 \n",
            "(epoch: 3, iters: 200, time: 0.579) G_GAN: 0.407 G_GAN_Feat: 3.546 G_VGG: 3.152 D_real: 0.088 D_fake: 0.837 \n",
            "(epoch: 3, iters: 300, time: 0.580) G_GAN: 1.377 G_GAN_Feat: 4.998 G_VGG: 4.508 D_real: 0.492 D_fake: 0.261 \n",
            "(epoch: 3, iters: 400, time: 0.581) G_GAN: 0.632 G_GAN_Feat: 5.077 G_VGG: 4.036 D_real: 0.152 D_fake: 0.512 \n",
            "(epoch: 3, iters: 500, time: 0.577) G_GAN: 0.904 G_GAN_Feat: 4.982 G_VGG: 4.703 D_real: 0.464 D_fake: 0.380 \n",
            "(epoch: 3, iters: 600, time: 0.580) G_GAN: 0.954 G_GAN_Feat: 4.471 G_VGG: 3.681 D_real: 0.439 D_fake: 0.357 \n",
            "saving the latest model (epoch 3, total_steps 9000)\n",
            "(epoch: 3, iters: 700, time: 0.583) G_GAN: 2.063 G_GAN_Feat: 5.235 G_VGG: 4.087 D_real: 0.531 D_fake: 0.076 \n",
            "(epoch: 3, iters: 800, time: 0.578) G_GAN: 1.835 G_GAN_Feat: 6.005 G_VGG: 4.612 D_real: 0.313 D_fake: 0.081 \n",
            "(epoch: 3, iters: 900, time: 0.579) G_GAN: 0.656 G_GAN_Feat: 4.947 G_VGG: 3.409 D_real: 0.197 D_fake: 0.505 \n",
            "(epoch: 3, iters: 1000, time: 0.582) G_GAN: 1.160 G_GAN_Feat: 5.654 G_VGG: 5.123 D_real: 0.125 D_fake: 0.283 \n",
            "(epoch: 3, iters: 1100, time: 0.580) G_GAN: 1.208 G_GAN_Feat: 5.266 G_VGG: 4.120 D_real: 0.132 D_fake: 0.351 \n",
            "(epoch: 3, iters: 1200, time: 0.580) G_GAN: 1.270 G_GAN_Feat: 5.627 G_VGG: 4.778 D_real: 0.144 D_fake: 0.202 \n",
            "(epoch: 3, iters: 1300, time: 0.580) G_GAN: 1.579 G_GAN_Feat: 5.166 G_VGG: 3.272 D_real: 0.538 D_fake: 0.110 \n",
            "(epoch: 3, iters: 1400, time: 0.581) G_GAN: 0.835 G_GAN_Feat: 5.521 G_VGG: 4.151 D_real: 0.066 D_fake: 0.392 \n",
            "(epoch: 3, iters: 1500, time: 0.578) G_GAN: 1.697 G_GAN_Feat: 5.332 G_VGG: 3.897 D_real: 0.213 D_fake: 0.148 \n",
            "(epoch: 3, iters: 1600, time: 0.581) G_GAN: 0.652 G_GAN_Feat: 6.128 G_VGG: 4.192 D_real: 0.129 D_fake: 0.677 \n",
            "saving the latest model (epoch 3, total_steps 10000)\n",
            "(epoch: 3, iters: 1700, time: 0.582) G_GAN: 1.655 G_GAN_Feat: 5.493 G_VGG: 3.641 D_real: 0.595 D_fake: 0.068 \n",
            "(epoch: 3, iters: 1800, time: 0.578) G_GAN: 1.090 G_GAN_Feat: 5.317 G_VGG: 4.209 D_real: 0.072 D_fake: 0.208 \n",
            "(epoch: 3, iters: 1900, time: 0.579) G_GAN: 1.367 G_GAN_Feat: 5.279 G_VGG: 4.880 D_real: 0.263 D_fake: 0.276 \n",
            "(epoch: 3, iters: 2000, time: 0.583) G_GAN: 1.134 G_GAN_Feat: 5.521 G_VGG: 3.673 D_real: 0.047 D_fake: 0.304 \n",
            "(epoch: 3, iters: 2100, time: 0.580) G_GAN: 1.688 G_GAN_Feat: 5.567 G_VGG: 3.297 D_real: 0.163 D_fake: 0.064 \n",
            "(epoch: 3, iters: 2200, time: 0.579) G_GAN: 1.336 G_GAN_Feat: 5.177 G_VGG: 3.498 D_real: 0.293 D_fake: 0.213 \n",
            "(epoch: 3, iters: 2300, time: 0.581) G_GAN: 1.683 G_GAN_Feat: 4.003 G_VGG: 3.472 D_real: 0.768 D_fake: 0.167 \n",
            "(epoch: 3, iters: 2400, time: 0.578) G_GAN: 1.982 G_GAN_Feat: 5.358 G_VGG: 3.673 D_real: 0.320 D_fake: 0.063 \n",
            "(epoch: 3, iters: 2500, time: 0.581) G_GAN: 1.153 G_GAN_Feat: 4.841 G_VGG: 3.157 D_real: 0.110 D_fake: 0.298 \n",
            "(epoch: 3, iters: 2600, time: 0.579) G_GAN: 1.624 G_GAN_Feat: 5.292 G_VGG: 4.260 D_real: 0.526 D_fake: 0.056 \n",
            "saving the latest model (epoch 3, total_steps 11000)\n",
            "(epoch: 3, iters: 2700, time: 0.584) G_GAN: 1.774 G_GAN_Feat: 4.607 G_VGG: 3.015 D_real: 0.433 D_fake: 0.114 \n",
            "(epoch: 3, iters: 2800, time: 0.577) G_GAN: 0.902 G_GAN_Feat: 4.717 G_VGG: 3.305 D_real: 0.350 D_fake: 0.324 \n",
            "(epoch: 3, iters: 2900, time: 0.581) G_GAN: 1.412 G_GAN_Feat: 5.015 G_VGG: 3.815 D_real: 0.087 D_fake: 0.166 \n",
            "(epoch: 3, iters: 3000, time: 0.581) G_GAN: 0.612 G_GAN_Feat: 6.515 G_VGG: 3.461 D_real: 0.099 D_fake: 0.763 \n",
            "(epoch: 3, iters: 3100, time: 0.577) G_GAN: 0.761 G_GAN_Feat: 4.757 G_VGG: 3.388 D_real: 0.060 D_fake: 0.585 \n",
            "(epoch: 3, iters: 3200, time: 0.580) G_GAN: 1.127 G_GAN_Feat: 3.961 G_VGG: 3.107 D_real: 0.106 D_fake: 0.236 \n",
            "(epoch: 3, iters: 3300, time: 0.580) G_GAN: 2.058 G_GAN_Feat: 6.291 G_VGG: 3.127 D_real: 0.652 D_fake: 0.026 \n",
            "(epoch: 3, iters: 3400, time: 0.582) G_GAN: 1.248 G_GAN_Feat: 5.932 G_VGG: 3.384 D_real: 0.046 D_fake: 0.263 \n",
            "(epoch: 3, iters: 3500, time: 0.578) G_GAN: 1.421 G_GAN_Feat: 5.530 G_VGG: 4.262 D_real: 0.097 D_fake: 0.189 \n",
            "(epoch: 3, iters: 3600, time: 0.582) G_GAN: 1.801 G_GAN_Feat: 4.947 G_VGG: 3.296 D_real: 0.179 D_fake: 0.060 \n",
            "saving the latest model (epoch 3, total_steps 12000)\n",
            "(epoch: 3, iters: 3700, time: 0.583) G_GAN: 1.930 G_GAN_Feat: 4.888 G_VGG: 2.395 D_real: 0.688 D_fake: 0.142 \n",
            "(epoch: 3, iters: 3800, time: 0.577) G_GAN: 0.722 G_GAN_Feat: 4.464 G_VGG: 3.141 D_real: 0.110 D_fake: 0.667 \n",
            "(epoch: 3, iters: 3900, time: 0.581) G_GAN: 1.331 G_GAN_Feat: 4.639 G_VGG: 3.637 D_real: 0.119 D_fake: 0.179 \n",
            "(epoch: 3, iters: 4000, time: 0.578) G_GAN: 1.128 G_GAN_Feat: 4.716 G_VGG: 4.093 D_real: 0.114 D_fake: 0.267 \n",
            "(epoch: 3, iters: 4100, time: 0.581) G_GAN: 1.958 G_GAN_Feat: 4.829 G_VGG: 4.309 D_real: 0.382 D_fake: 0.128 \n",
            "(epoch: 3, iters: 4200, time: 0.577) G_GAN: 1.275 G_GAN_Feat: 3.601 G_VGG: 2.569 D_real: 0.859 D_fake: 0.334 \n",
            "End of epoch 3 / 200 \t Time Taken: 2456 sec\n",
            "(epoch: 4, iters: 100, time: 0.580) G_GAN: 2.089 G_GAN_Feat: 4.250 G_VGG: 3.566 D_real: 0.859 D_fake: 0.085 \n",
            "(epoch: 4, iters: 200, time: 0.578) G_GAN: 0.592 G_GAN_Feat: 3.930 G_VGG: 3.557 D_real: 0.154 D_fake: 0.687 \n",
            "(epoch: 4, iters: 300, time: 0.581) G_GAN: 1.064 G_GAN_Feat: 4.296 G_VGG: 3.320 D_real: 0.218 D_fake: 0.397 \n",
            "(epoch: 4, iters: 400, time: 0.581) G_GAN: 1.815 G_GAN_Feat: 5.740 G_VGG: 3.541 D_real: 0.097 D_fake: 0.032 \n",
            "saving the latest model (epoch 4, total_steps 13000)\n",
            "(epoch: 4, iters: 500, time: 0.582) G_GAN: 1.804 G_GAN_Feat: 5.578 G_VGG: 3.980 D_real: 0.127 D_fake: 0.074 \n",
            "(epoch: 4, iters: 600, time: 0.577) G_GAN: 1.195 G_GAN_Feat: 4.300 G_VGG: 3.069 D_real: 0.103 D_fake: 0.457 \n",
            "(epoch: 4, iters: 700, time: 0.582) G_GAN: 1.723 G_GAN_Feat: 4.968 G_VGG: 2.860 D_real: 0.234 D_fake: 0.168 \n",
            "(epoch: 4, iters: 800, time: 0.578) G_GAN: 0.630 G_GAN_Feat: 4.223 G_VGG: 3.672 D_real: 0.158 D_fake: 0.558 \n",
            "(epoch: 4, iters: 900, time: 0.581) G_GAN: 1.550 G_GAN_Feat: 6.046 G_VGG: 3.993 D_real: 0.072 D_fake: 0.092 \n",
            "(epoch: 4, iters: 1000, time: 0.580) G_GAN: 1.444 G_GAN_Feat: 3.783 G_VGG: 2.954 D_real: 0.207 D_fake: 0.262 \n",
            "(epoch: 4, iters: 1100, time: 0.580) G_GAN: 1.021 G_GAN_Feat: 5.348 G_VGG: 3.578 D_real: 0.104 D_fake: 0.328 \n",
            "(epoch: 4, iters: 1200, time: 0.582) G_GAN: 0.788 G_GAN_Feat: 3.798 G_VGG: 3.420 D_real: 0.058 D_fake: 0.545 \n",
            "(epoch: 4, iters: 1300, time: 0.579) G_GAN: 1.443 G_GAN_Feat: 4.308 G_VGG: 3.161 D_real: 0.337 D_fake: 0.278 \n",
            "(epoch: 4, iters: 1400, time: 0.582) G_GAN: 1.519 G_GAN_Feat: 4.958 G_VGG: 3.099 D_real: 0.178 D_fake: 0.165 \n",
            "saving the latest model (epoch 4, total_steps 14000)\n",
            "(epoch: 4, iters: 1500, time: 0.582) G_GAN: 1.944 G_GAN_Feat: 5.645 G_VGG: 4.047 D_real: 0.279 D_fake: 0.044 \n",
            "(epoch: 4, iters: 1600, time: 0.578) G_GAN: 1.007 G_GAN_Feat: 4.408 G_VGG: 2.786 D_real: 0.112 D_fake: 0.358 \n",
            "(epoch: 4, iters: 1700, time: 0.581) G_GAN: 1.621 G_GAN_Feat: 5.302 G_VGG: 2.699 D_real: 0.127 D_fake: 0.114 \n",
            "(epoch: 4, iters: 1800, time: 0.580) G_GAN: 1.827 G_GAN_Feat: 4.185 G_VGG: 2.859 D_real: 0.391 D_fake: 0.132 \n",
            "(epoch: 4, iters: 1900, time: 0.577) G_GAN: 1.087 G_GAN_Feat: 4.290 G_VGG: 2.991 D_real: 0.198 D_fake: 0.292 \n",
            "(epoch: 4, iters: 2000, time: 0.581) G_GAN: 1.346 G_GAN_Feat: 4.686 G_VGG: 2.665 D_real: 0.125 D_fake: 0.132 \n",
            "(epoch: 4, iters: 2100, time: 0.581) G_GAN: 1.137 G_GAN_Feat: 4.444 G_VGG: 3.059 D_real: 0.130 D_fake: 0.276 \n",
            "(epoch: 4, iters: 2200, time: 0.580) G_GAN: 1.827 G_GAN_Feat: 5.873 G_VGG: 3.648 D_real: 0.274 D_fake: 0.073 \n",
            "(epoch: 4, iters: 2300, time: 0.580) G_GAN: 1.239 G_GAN_Feat: 4.584 G_VGG: 3.733 D_real: 0.107 D_fake: 0.200 \n",
            "(epoch: 4, iters: 2400, time: 0.581) G_GAN: 1.584 G_GAN_Feat: 4.257 G_VGG: 3.139 D_real: 0.207 D_fake: 0.290 \n",
            "saving the latest model (epoch 4, total_steps 15000)\n",
            "(epoch: 4, iters: 2500, time: 0.580) G_GAN: 1.232 G_GAN_Feat: 3.550 G_VGG: 2.474 D_real: 0.294 D_fake: 0.185 \n",
            "(epoch: 4, iters: 2600, time: 0.582) G_GAN: 1.588 G_GAN_Feat: 3.772 G_VGG: 2.290 D_real: 0.164 D_fake: 0.206 \n",
            "(epoch: 4, iters: 2700, time: 0.579) G_GAN: 1.300 G_GAN_Feat: 3.580 G_VGG: 2.229 D_real: 0.232 D_fake: 0.136 \n",
            "(epoch: 4, iters: 2800, time: 0.580) G_GAN: 1.408 G_GAN_Feat: 4.368 G_VGG: 3.012 D_real: 0.106 D_fake: 0.120 \n",
            "(epoch: 4, iters: 2900, time: 0.578) G_GAN: 1.288 G_GAN_Feat: 3.807 G_VGG: 2.833 D_real: 0.174 D_fake: 0.358 \n",
            "(epoch: 4, iters: 3000, time: 0.583) G_GAN: 0.765 G_GAN_Feat: 4.551 G_VGG: 3.651 D_real: 0.091 D_fake: 0.573 \n",
            "(epoch: 4, iters: 3100, time: 0.579) G_GAN: 0.568 G_GAN_Feat: 4.276 G_VGG: 3.726 D_real: 0.412 D_fake: 0.742 \n",
            "(epoch: 4, iters: 3200, time: 0.580) G_GAN: 1.200 G_GAN_Feat: 4.440 G_VGG: 3.041 D_real: 0.129 D_fake: 0.287 \n",
            "(epoch: 4, iters: 3300, time: 0.582) G_GAN: 1.010 G_GAN_Feat: 4.204 G_VGG: 2.233 D_real: 0.067 D_fake: 0.492 \n",
            "(epoch: 4, iters: 3400, time: 0.578) G_GAN: 0.911 G_GAN_Feat: 4.000 G_VGG: 2.658 D_real: 0.059 D_fake: 0.365 \n",
            "saving the latest model (epoch 4, total_steps 16000)\n",
            "(epoch: 4, iters: 3500, time: 0.583) G_GAN: 1.263 G_GAN_Feat: 3.705 G_VGG: 2.106 D_real: 0.239 D_fake: 0.117 \n",
            "(epoch: 4, iters: 3600, time: 0.577) G_GAN: 1.722 G_GAN_Feat: 5.055 G_VGG: 2.447 D_real: 0.111 D_fake: 0.055 \n",
            "(epoch: 4, iters: 3700, time: 0.582) G_GAN: 1.598 G_GAN_Feat: 4.240 G_VGG: 2.873 D_real: 0.266 D_fake: 0.104 \n",
            "(epoch: 4, iters: 3800, time: 0.579) G_GAN: 1.421 G_GAN_Feat: 4.248 G_VGG: 2.867 D_real: 0.223 D_fake: 0.272 \n",
            "(epoch: 4, iters: 3900, time: 0.581) G_GAN: 1.251 G_GAN_Feat: 4.899 G_VGG: 2.568 D_real: 0.109 D_fake: 0.193 \n",
            "(epoch: 4, iters: 4000, time: 0.582) G_GAN: 1.287 G_GAN_Feat: 4.222 G_VGG: 2.535 D_real: 0.114 D_fake: 0.200 \n",
            "(epoch: 4, iters: 4100, time: 0.580) G_GAN: 1.336 G_GAN_Feat: 4.169 G_VGG: 3.075 D_real: 0.150 D_fake: 0.322 \n",
            "(epoch: 4, iters: 4200, time: 0.580) G_GAN: 1.528 G_GAN_Feat: 4.172 G_VGG: 2.407 D_real: 0.181 D_fake: 0.220 \n",
            "End of epoch 4 / 200 \t Time Taken: 2459 sec\n",
            "(epoch: 5, iters: 100, time: 0.579) G_GAN: 0.983 G_GAN_Feat: 4.563 G_VGG: 2.420 D_real: 0.048 D_fake: 0.428 \n",
            "(epoch: 5, iters: 200, time: 0.581) G_GAN: 1.619 G_GAN_Feat: 4.354 G_VGG: 2.508 D_real: 0.031 D_fake: 0.164 \n",
            "saving the latest model (epoch 5, total_steps 17000)\n",
            "(epoch: 5, iters: 300, time: 0.581) G_GAN: 1.938 G_GAN_Feat: 5.326 G_VGG: 3.171 D_real: 0.066 D_fake: 0.061 \n",
            "(epoch: 5, iters: 400, time: 0.581) G_GAN: 1.489 G_GAN_Feat: 4.320 G_VGG: 2.695 D_real: 0.184 D_fake: 0.198 \n",
            "(epoch: 5, iters: 500, time: 0.581) G_GAN: 1.263 G_GAN_Feat: 3.657 G_VGG: 2.549 D_real: 0.335 D_fake: 0.151 \n",
            "(epoch: 5, iters: 600, time: 0.579) G_GAN: 1.222 G_GAN_Feat: 4.320 G_VGG: 2.996 D_real: 0.075 D_fake: 0.191 \n",
            "(epoch: 5, iters: 700, time: 0.579) G_GAN: 1.219 G_GAN_Feat: 4.796 G_VGG: 2.867 D_real: 0.064 D_fake: 0.153 \n",
            "(epoch: 5, iters: 800, time: 0.582) G_GAN: 1.633 G_GAN_Feat: 5.183 G_VGG: 2.808 D_real: 0.042 D_fake: 0.082 \n",
            "(epoch: 5, iters: 900, time: 0.578) G_GAN: 1.401 G_GAN_Feat: 4.750 G_VGG: 3.141 D_real: 0.125 D_fake: 0.159 \n",
            "(epoch: 5, iters: 1000, time: 0.581) G_GAN: 1.221 G_GAN_Feat: 3.629 G_VGG: 2.744 D_real: 0.096 D_fake: 0.401 \n",
            "(epoch: 5, iters: 1100, time: 0.581) G_GAN: 1.102 G_GAN_Feat: 3.721 G_VGG: 3.387 D_real: 0.077 D_fake: 0.613 \n",
            "(epoch: 5, iters: 1200, time: 0.580) G_GAN: 1.448 G_GAN_Feat: 4.646 G_VGG: 2.495 D_real: 0.413 D_fake: 0.192 \n",
            "saving the latest model (epoch 5, total_steps 18000)\n",
            "(epoch: 5, iters: 1300, time: 0.582) G_GAN: 1.505 G_GAN_Feat: 4.856 G_VGG: 2.550 D_real: 0.300 D_fake: 0.120 \n",
            "(epoch: 5, iters: 1400, time: 0.581) G_GAN: 1.241 G_GAN_Feat: 3.375 G_VGG: 2.618 D_real: 0.390 D_fake: 0.421 \n",
            "(epoch: 5, iters: 1500, time: 0.580) G_GAN: 1.634 G_GAN_Feat: 3.878 G_VGG: 2.434 D_real: 0.251 D_fake: 0.199 \n",
            "(epoch: 5, iters: 1600, time: 0.579) G_GAN: 1.592 G_GAN_Feat: 4.711 G_VGG: 2.631 D_real: 0.094 D_fake: 0.125 \n",
            "(epoch: 5, iters: 1700, time: 0.580) G_GAN: 1.318 G_GAN_Feat: 4.068 G_VGG: 2.809 D_real: 0.241 D_fake: 0.123 \n",
            "(epoch: 5, iters: 1800, time: 0.581) G_GAN: 1.188 G_GAN_Feat: 3.956 G_VGG: 3.260 D_real: 0.156 D_fake: 0.340 \n",
            "(epoch: 5, iters: 1900, time: 0.581) G_GAN: 2.044 G_GAN_Feat: 4.525 G_VGG: 2.576 D_real: 0.136 D_fake: 0.127 \n",
            "(epoch: 5, iters: 2000, time: 0.579) G_GAN: 1.602 G_GAN_Feat: 3.726 G_VGG: 2.633 D_real: 0.294 D_fake: 0.171 \n",
            "(epoch: 5, iters: 2100, time: 0.581) G_GAN: 1.554 G_GAN_Feat: 3.845 G_VGG: 3.141 D_real: 0.407 D_fake: 0.228 \n",
            "(epoch: 5, iters: 2200, time: 0.579) G_GAN: 1.513 G_GAN_Feat: 4.946 G_VGG: 2.698 D_real: 0.274 D_fake: 0.136 \n",
            "saving the latest model (epoch 5, total_steps 19000)\n",
            "(epoch: 5, iters: 2300, time: 0.583) G_GAN: 1.511 G_GAN_Feat: 3.968 G_VGG: 2.616 D_real: 0.469 D_fake: 0.104 \n",
            "(epoch: 5, iters: 2400, time: 0.578) G_GAN: 1.489 G_GAN_Feat: 4.284 G_VGG: 2.479 D_real: 0.527 D_fake: 0.282 \n",
            "(epoch: 5, iters: 2500, time: 0.580) G_GAN: 1.267 G_GAN_Feat: 4.742 G_VGG: 3.035 D_real: 0.184 D_fake: 0.308 \n",
            "(epoch: 5, iters: 2600, time: 0.577) G_GAN: 1.608 G_GAN_Feat: 3.495 G_VGG: 2.777 D_real: 0.199 D_fake: 0.187 \n",
            "(epoch: 5, iters: 2700, time: 0.581) G_GAN: 0.949 G_GAN_Feat: 4.025 G_VGG: 2.173 D_real: 0.137 D_fake: 0.399 \n",
            "(epoch: 5, iters: 2800, time: 0.579) G_GAN: 1.045 G_GAN_Feat: 3.869 G_VGG: 3.108 D_real: 0.129 D_fake: 0.233 \n",
            "(epoch: 5, iters: 2900, time: 0.579) G_GAN: 1.715 G_GAN_Feat: 3.961 G_VGG: 2.330 D_real: 0.342 D_fake: 0.103 \n",
            "(epoch: 5, iters: 3000, time: 0.579) G_GAN: 2.108 G_GAN_Feat: 5.345 G_VGG: 3.245 D_real: 0.164 D_fake: 0.036 \n",
            "(epoch: 5, iters: 3100, time: 0.581) G_GAN: 1.469 G_GAN_Feat: 4.377 G_VGG: 2.780 D_real: 0.071 D_fake: 0.218 \n",
            "(epoch: 5, iters: 3200, time: 0.580) G_GAN: 1.357 G_GAN_Feat: 4.003 G_VGG: 2.991 D_real: 0.104 D_fake: 0.141 \n",
            "saving the latest model (epoch 5, total_steps 20000)\n",
            "(epoch: 5, iters: 3300, time: 0.581) G_GAN: 1.255 G_GAN_Feat: 3.200 G_VGG: 2.229 D_real: 0.396 D_fake: 0.156 \n",
            "(epoch: 5, iters: 3400, time: 0.581) G_GAN: 1.169 G_GAN_Feat: 4.081 G_VGG: 2.530 D_real: 0.033 D_fake: 0.301 \n",
            "(epoch: 5, iters: 3500, time: 0.578) G_GAN: 1.743 G_GAN_Feat: 3.916 G_VGG: 2.616 D_real: 0.546 D_fake: 0.088 \n",
            "(epoch: 5, iters: 3600, time: 0.580) G_GAN: 0.974 G_GAN_Feat: 4.321 G_VGG: 2.405 D_real: 0.172 D_fake: 0.533 \n",
            "(epoch: 5, iters: 3700, time: 0.581) G_GAN: 1.940 G_GAN_Feat: 4.168 G_VGG: 2.538 D_real: 0.112 D_fake: 0.144 \n",
            "(epoch: 5, iters: 3800, time: 0.578) G_GAN: 1.977 G_GAN_Feat: 4.375 G_VGG: 2.483 D_real: 0.095 D_fake: 0.029 \n",
            "(epoch: 5, iters: 3900, time: 0.578) G_GAN: 1.115 G_GAN_Feat: 3.364 G_VGG: 2.609 D_real: 0.092 D_fake: 0.384 \n",
            "(epoch: 5, iters: 4000, time: 0.581) G_GAN: 1.465 G_GAN_Feat: 5.414 G_VGG: 2.870 D_real: 0.067 D_fake: 0.297 \n",
            "(epoch: 5, iters: 4100, time: 0.580) G_GAN: 1.740 G_GAN_Feat: 4.753 G_VGG: 2.629 D_real: 0.233 D_fake: 0.038 \n",
            "(epoch: 5, iters: 4200, time: 0.578) G_GAN: 1.251 G_GAN_Feat: 4.595 G_VGG: 3.272 D_real: 0.051 D_fake: 0.193 \n",
            "saving the latest model (epoch 5, total_steps 21000)\n",
            "End of epoch 5 / 200 \t Time Taken: 2464 sec\n",
            "(epoch: 6, iters: 100, time: 0.586) G_GAN: 1.451 G_GAN_Feat: 4.917 G_VGG: 3.139 D_real: 0.286 D_fake: 0.519 \n",
            "(epoch: 6, iters: 200, time: 0.578) G_GAN: 1.644 G_GAN_Feat: 4.357 G_VGG: 2.916 D_real: 0.350 D_fake: 0.101 \n",
            "(epoch: 6, iters: 300, time: 0.582) G_GAN: 1.723 G_GAN_Feat: 4.052 G_VGG: 3.173 D_real: 0.363 D_fake: 0.143 \n",
            "(epoch: 6, iters: 400, time: 0.579) G_GAN: 1.190 G_GAN_Feat: 3.677 G_VGG: 2.718 D_real: 0.048 D_fake: 0.220 \n",
            "(epoch: 6, iters: 500, time: 0.581) G_GAN: 1.690 G_GAN_Feat: 4.587 G_VGG: 3.089 D_real: 0.325 D_fake: 0.142 \n",
            "(epoch: 6, iters: 600, time: 0.580) G_GAN: 1.676 G_GAN_Feat: 3.958 G_VGG: 2.704 D_real: 0.340 D_fake: 0.051 \n",
            "Traceback (most recent call last):\n",
            "  File \"/content/drive/MyDrive/Haze-Fog-suppression/pix2pixHD/train.py\", line 60, in <module>\n",
            "    for i, data in enumerate(dataset, start=epoch_iter):\n",
            "  File \"/usr/local/lib/python3.10/dist-packages/torch/utils/data/dataloader.py\", line 633, in __next__\n",
            "    data = self._next_data()\n",
            "  File \"/usr/local/lib/python3.10/dist-packages/torch/utils/data/dataloader.py\", line 1345, in _next_data\n",
            "    return self._process_data(data)\n",
            "  File \"/usr/local/lib/python3.10/dist-packages/torch/utils/data/dataloader.py\", line 1371, in _process_data\n",
            "    data.reraise()\n",
            "  File \"/usr/local/lib/python3.10/dist-packages/torch/_utils.py\", line 644, in reraise\n",
            "    raise exception\n",
            "OSError: Caught OSError in DataLoader worker process 0.\n",
            "Original Traceback (most recent call last):\n",
            "  File \"/usr/local/lib/python3.10/dist-packages/torch/utils/data/_utils/worker.py\", line 308, in _worker_loop\n",
            "    data = fetcher.fetch(index)\n",
            "  File \"/usr/local/lib/python3.10/dist-packages/torch/utils/data/_utils/fetch.py\", line 51, in fetch\n",
            "    data = [self.dataset[idx] for idx in possibly_batched_index]\n",
            "  File \"/usr/local/lib/python3.10/dist-packages/torch/utils/data/_utils/fetch.py\", line 51, in <listcomp>\n",
            "    data = [self.dataset[idx] for idx in possibly_batched_index]\n",
            "  File \"/content/drive/MyDrive/Haze-Fog-suppression/pix2pixHD/data/aligned_dataset.py\", line 38, in __getitem__\n",
            "  File \"/usr/local/lib/python3.10/dist-packages/PIL/Image.py\", line 3227, in open\n",
            "    fp = builtins.open(filename, \"rb\")\n",
            "OSError: [Errno 107] Transport endpoint is not connected: './datasets/nebbia/train_A/01587_high.png'\n",
            "\n"
          ]
        }
      ]
    },
    {
      "cell_type": "code",
      "source": [
        "#training on high resolution G1 and G2\n",
        "!python train.py --netG local --load_pretrain checkpoints/nebbia/ --label_nc 0 --no_instance --name nebbia --dataroot ./datasets/nebbia --resize_or_crop crop --fineSize 1024"
      ],
      "metadata": {
        "id": "3XhQJ5s95ZUj"
      },
      "execution_count": null,
      "outputs": []
    },
    {
      "cell_type": "markdown",
      "source": [
        "# Pix2Pix test"
      ],
      "metadata": {
        "id": "qEuQqQPxGISq"
      }
    },
    {
      "cell_type": "code",
      "execution_count": null,
      "metadata": {
        "id": "_m4nxHHLAtxf",
        "outputId": "d8bb40ca-fe7a-4438-f504-f730e3213a8c",
        "colab": {
          "base_uri": "https://localhost:8080/"
        }
      },
      "outputs": [
        {
          "output_type": "stream",
          "name": "stdout",
          "text": [
            "iter.txt  latest_net_D.pth  latest_net_G.pth  loss_log.txt  opt.txt  web\n",
            "Traceback (most recent call last):\n",
            "  File \"/content/drive/MyDrive/Haze-Fog-suppression/pix2pixHD/test.py\", line 12, in <module>\n",
            "    opt = TestOptions().parse(save=False)\n",
            "  File \"/content/drive/MyDrive/Haze-Fog-suppression/pix2pixHD/options/base_options.py\", line 80, in parse\n",
            "    torch.cuda.set_device(self.opt.gpu_ids[0])\n",
            "  File \"/usr/local/lib/python3.10/dist-packages/torch/cuda/__init__.py\", line 350, in set_device\n",
            "    torch._C._cuda_setDevice(device)\n",
            "  File \"/usr/local/lib/python3.10/dist-packages/torch/cuda/__init__.py\", line 247, in _lazy_init\n",
            "    torch._C._cuda_init()\n",
            "RuntimeError: Found no NVIDIA driver on your system. Please check that you have an NVIDIA GPU and installed a driver from http://www.nvidia.com/Download/index.aspx\n"
          ]
        }
      ],
      "source": [
        "#se non è stato eseguito il download\n",
        "if os.getcwd() != \"/content/drive/MyDrive/Haze-Fog-suppression/pix2pixHD\":\n",
        "  os.chdir(\"pix2pixHD\")\n",
        "\n",
        "#!./scripts/test_1024p.sh\n",
        "!python test.py --name nebbia --netG local --ngf 32 --resize_or_crop none --ntest 5"
      ]
    },
    {
      "cell_type": "code",
      "source": [
        "#!cp -r /content/drive/MyDrive/Haze-Fog-suppression/dataset/SOTS/outdoor/gt/* /content/drive/MyDrive/Haze-Fog-suppression/pix2pixHD/datasets/nebbia/test_img/"
      ],
      "metadata": {
        "id": "o-Uvp5SC9u4Z"
      },
      "execution_count": null,
      "outputs": []
    },
    {
      "cell_type": "code",
      "source": [
        "#!cp -r /content/drive/MyDrive/Haze-Fog-suppression/dataset/SOTS/outdoor/hazy/* /content/drive/MyDrive/Haze-Fog-suppression/pix2pixHD/datasets/nebbia/test_label/"
      ],
      "metadata": {
        "id": "ylzeExck-S7o"
      },
      "execution_count": null,
      "outputs": []
    }
  ],
  "metadata": {
    "accelerator": "GPU",
    "colab": {
      "gpuType": "T4",
      "provenance": [],
      "include_colab_link": true
    },
    "kernelspec": {
      "display_name": "Python 3",
      "name": "python3"
    },
    "language_info": {
      "name": "python"
    }
  },
  "nbformat": 4,
  "nbformat_minor": 0
}