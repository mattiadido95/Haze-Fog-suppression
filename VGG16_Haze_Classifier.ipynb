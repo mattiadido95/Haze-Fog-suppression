{
  "cells": [
    {
      "cell_type": "code",
      "source": [
        "# NON ESEGUIRE SEREVE PER RIMUOVERE IMMMAGINI A CAZZO !!!!!!!!!!!!!!!\n",
        "\n",
        "import os\n",
        "import shutil\n",
        "# Definisci il percorso della cartella\n",
        "folder_path = \"/content/drive/MyDrive/\"\n",
        "\n",
        "# Ottieni la lista di tutti i file nella cartella\n",
        "file_list = os.listdir(folder_path)\n",
        "\n",
        "# Filtra i file con estensione .png\n",
        "png_files = [file for file in file_list if file.lower().endswith('.png')]\n",
        "\n",
        "print(f\"Numero totale di immagini PNG nella cartella: {len(png_files)}\")\n",
        "\n",
        "\n",
        "\n",
        "# Definisci il percorso della nuova cartella\n",
        "new_folder_path = \"/content/drive/MyDrive/cartellaCasino/\"\n",
        "\n",
        "# Crea la nuova cartella se non esiste\n",
        "if not os.path.exists(new_folder_path):\n",
        "    os.makedirs(new_folder_path)\n",
        "\n",
        "# Ottieni la lista di tutti i file nella cartella\n",
        "file_list = os.listdir(folder_path)\n",
        "\n",
        "# Filtra i file con estensione .png\n",
        "png_files = [file for file in file_list if file.lower().endswith('.png')]\n",
        "\n",
        "# Sposta ciascun file nella nuova cartella\n",
        "for png_file in png_files:\n",
        "    source_path = os.path.join(folder_path, png_file)\n",
        "    destination_path = os.path.join(new_folder_path, png_file)\n",
        "    shutil.move(source_path, destination_path)\n",
        "\n",
        "print(f\"{len(png_files)} immagini PNG sono state spostate nella cartella 'cartellaCAsino'.\")\n"
      ],
      "metadata": {
        "id": "myyn58keU6mU",
        "outputId": "98c77c52-a749-46aa-b335-c70285dff402",
        "colab": {
          "base_uri": "https://localhost:8080/",
          "height": 256
        }
      },
      "execution_count": 1,
      "outputs": [
        {
          "output_type": "error",
          "ename": "FileNotFoundError",
          "evalue": "ignored",
          "traceback": [
            "\u001b[0;31m---------------------------------------------------------------------------\u001b[0m",
            "\u001b[0;31mFileNotFoundError\u001b[0m                         Traceback (most recent call last)",
            "\u001b[0;32m<ipython-input-1-aca918538df0>\u001b[0m in \u001b[0;36m<cell line: 9>\u001b[0;34m()\u001b[0m\n\u001b[1;32m      7\u001b[0m \u001b[0;34m\u001b[0m\u001b[0m\n\u001b[1;32m      8\u001b[0m \u001b[0;31m# Ottieni la lista di tutti i file nella cartella\u001b[0m\u001b[0;34m\u001b[0m\u001b[0;34m\u001b[0m\u001b[0m\n\u001b[0;32m----> 9\u001b[0;31m \u001b[0mfile_list\u001b[0m \u001b[0;34m=\u001b[0m \u001b[0mos\u001b[0m\u001b[0;34m.\u001b[0m\u001b[0mlistdir\u001b[0m\u001b[0;34m(\u001b[0m\u001b[0mfolder_path\u001b[0m\u001b[0;34m)\u001b[0m\u001b[0;34m\u001b[0m\u001b[0;34m\u001b[0m\u001b[0m\n\u001b[0m\u001b[1;32m     10\u001b[0m \u001b[0;34m\u001b[0m\u001b[0m\n\u001b[1;32m     11\u001b[0m \u001b[0;31m# Filtra i file con estensione .png\u001b[0m\u001b[0;34m\u001b[0m\u001b[0;34m\u001b[0m\u001b[0m\n",
            "\u001b[0;31mFileNotFoundError\u001b[0m: [Errno 2] No such file or directory: '/content/drive/MyDrive/'"
          ]
        }
      ]
    },
    {
      "cell_type": "code",
      "source": [
        "# Remove the cartella casino folder and its contents\n",
        "shutil.rmtree(new_folder_path)"
      ],
      "metadata": {
        "id": "h1IPNAkzp_l6"
      },
      "execution_count": null,
      "outputs": []
    },
    {
      "cell_type": "markdown",
      "metadata": {
        "id": "uEOV_XuJ5YFW"
      },
      "source": [
        "## Import Libraries"
      ]
    },
    {
      "cell_type": "code",
      "execution_count": 2,
      "metadata": {
        "id": "i3cajnYA5YFb"
      },
      "outputs": [],
      "source": [
        "#from google.colab import drive\n",
        "import os\n",
        "import shutil\n",
        "import numpy as np\n",
        "import random as rn\n",
        "import tensorflow as tf\n",
        "from tensorflow import keras\n",
        "from tensorflow.keras.utils import image_dataset_from_directory\n",
        "from tensorflow.keras import layers, models, optimizers\n",
        "from tensorflow.keras.models import Sequential\n",
        "from tensorflow.keras.applications import VGG16\n",
        "import matplotlib.pyplot as plt\n",
        "from sklearn import metrics\n",
        "from tensorflow.keras.preprocessing.image import ImageDataGenerator\n",
        "from sklearn.preprocessing import LabelBinarizer\n",
        "from tqdm import tqdm\n",
        "from keras.applications import VGG16\n",
        "from keras.models import Sequential ,load_model\n",
        "from keras.layers import Dense, Dropout, Flatten\n",
        "\n",
        "import matplotlib.pyplot as plt\n",
        "import numpy as np\n",
        "import os\n",
        "\n",
        "from tensorflow.keras import backend as K\n",
        "from itertools import cycle\n",
        "from sklearn.metrics import confusion_matrix, ConfusionMatrixDisplay, roc_curve, auc, roc_auc_score\n",
        "\n"
      ]
    },
    {
      "cell_type": "markdown",
      "metadata": {
        "id": "MIIhAB5I5YHa"
      },
      "source": [
        "## Google Drive connection"
      ]
    },
    {
      "cell_type": "code",
      "execution_count": 3,
      "metadata": {
        "colab": {
          "base_uri": "https://localhost:8080/"
        },
        "id": "JfYIIO4K5YHb",
        "outputId": "24682f61-7661-4b8e-9a29-89df62603e77"
      },
      "outputs": [
        {
          "output_type": "stream",
          "name": "stdout",
          "text": [
            "Mounted at /content/drive\n"
          ]
        }
      ],
      "source": [
        "# mount drive\n",
        "from google.colab import drive\n",
        "drive.mount('/content/drive', force_remount=True)"
      ]
    },
    {
      "cell_type": "markdown",
      "metadata": {
        "id": "TlRMYAL6UhSl"
      },
      "source": [
        "# Preprocessing\n"
      ]
    },
    {
      "cell_type": "code",
      "execution_count": 4,
      "metadata": {
        "id": "rakGiCg2UhSm"
      },
      "outputs": [],
      "source": [
        "dataset_path = \"/content/drive/MyDrive/Haze-Fog-suppression/classifier/\"\n",
        "\n",
        "# Definisci i percorsi per il set di test, di validazione e di addestramento\n",
        "base_path_levels = '/content/drive/MyDrive/Haze-Fog-suppression/pix2pixHD/datasets/nebbia/train_A_old/'\n",
        "base_path_nohaze = '/content/drive/MyDrive/Haze-Fog-suppression/pix2pixHD/datasets/nebbia/train_B_old/'\n",
        "base_path = ''\n",
        "test_path = dataset_path + 'dataset/Test/'\n",
        "val_path = dataset_path + 'dataset/Validation/'\n",
        "train_path = dataset_path + 'dataset/Train/'\n",
        "models_path = dataset_path + 'dataset/models/'\n",
        "\n",
        "# class list\n",
        "classes = ['no_haze', 'low', 'medium', 'high']"
      ]
    },
    {
      "cell_type": "code",
      "source": [
        "# create folders for test, validation and train in the dataset folder\n",
        "os.makedirs(test_path, exist_ok=True)\n",
        "os.makedirs(val_path, exist_ok=True)\n",
        "os.makedirs(train_path, exist_ok=True)"
      ],
      "metadata": {
        "id": "lgZ2Swk_VWBl"
      },
      "execution_count": null,
      "outputs": []
    },
    {
      "cell_type": "code",
      "source": [
        "# create folders for test, validation and train in the dataset folder\n",
        "os.makedirs(test_path, exist_ok=True)\n",
        "os.makedirs(val_path, exist_ok=True)\n",
        "os.makedirs(train_path, exist_ok=True)\n",
        "\n",
        "# create for each class the corresponding folder in the test, validation and train folders\n",
        "for cl in classes:\n",
        "    # empty the folders if they are not empty\n",
        "    #if os.path.exists(os.path.join(test_path, cl)):\n",
        "    #    shutil.rmtree(os.path.join(test_path, cl))\n",
        "    #if os.path.exists(os.path.join(val_path, cl)):\n",
        "    #    shutil.rmtree(os.path.join(val_path, cl))\n",
        "    #if os.path.exists(os.path.join(train_path, cl)):\n",
        "    #    shutil.rmtree(os.path.join(train_path, cl))\n",
        "    os.makedirs(os.path.join(test_path, cl), exist_ok=True)\n",
        "    os.makedirs(os.path.join(val_path, cl), exist_ok=True)\n",
        "    os.makedirs(os.path.join(train_path, cl), exist_ok=True)"
      ],
      "metadata": {
        "id": "0s_oUEAQWHBh"
      },
      "execution_count": null,
      "outputs": []
    },
    {
      "cell_type": "code",
      "source": [
        "# get number of images for each class\n",
        "num_images = []\n",
        "for cl in classes:\n",
        "    num_images.append(len(os.listdir(os.path.join(train_path, cl))))\n",
        "\n",
        "print(num_images)"
      ],
      "metadata": {
        "id": "Wtkvb8CjhPPy",
        "outputId": "35137181-2a8b-45d8-d953-389692b5902e",
        "colab": {
          "base_uri": "https://localhost:8080/"
        }
      },
      "execution_count": null,
      "outputs": [
        {
          "output_type": "stream",
          "name": "stdout",
          "text": [
            "[2691, 2692, 2675, 2684]\n"
          ]
        }
      ]
    },
    {
      "cell_type": "markdown",
      "source": [
        "## Copy image for class low medium high"
      ],
      "metadata": {
        "id": "Wox8Yw42X30L"
      }
    },
    {
      "cell_type": "code",
      "execution_count": null,
      "metadata": {
        "id": "S--gEe0MUhSm",
        "outputId": "b01848fc-502c-4a88-b5c0-fb8e9961e4f6",
        "colab": {
          "base_uri": "https://localhost:8080/"
        }
      },
      "outputs": [
        {
          "output_type": "stream",
          "name": "stderr",
          "text": [
            "Copying images: 100%|██████████| 12600/12600 [1:34:27<00:00,  2.22it/s]\n"
          ]
        }
      ],
      "source": [
        "for img in tqdm(os.listdir(base_path_levels), desc=\"Copying images\"):\n",
        "    # get the image name\n",
        "    img_name = img.split('.')[0]\n",
        "    # get the class of the image\n",
        "    cl = img_name.split('_')[1]\n",
        "    # get the image path\n",
        "    img_path = os.path.join(base_path_levels, img)\n",
        "    # copy the image in the corresponding class folder in the test, validation and train folders\n",
        "    if rn.random() < 0.2:\n",
        "        shutil.copy(img_path, os.path.join(test_path, cl, img))\n",
        "    elif rn.random() < 0.2:\n",
        "        shutil.copy(img_path, os.path.join(val_path, cl, img))\n",
        "    else:\n",
        "        shutil.copy(img_path, os.path.join(train_path, cl, img))"
      ]
    },
    {
      "cell_type": "markdown",
      "source": [
        "## Copy image for class no_haze"
      ],
      "metadata": {
        "id": "Bj381ZyvX9_w"
      }
    },
    {
      "cell_type": "code",
      "source": [
        "for img in tqdm(os.listdir(base_path_nohaze), desc=\"Copying images\"):\n",
        "    # get the image name\n",
        "    img_name = img.split('.')[0]\n",
        "    # get the class of the image\n",
        "    cl = img_name.split('_')[1]\n",
        "    if cl == 'high':\n",
        "      # create new name\n",
        "      new_name = img_name.split('_')[0]+'_no_haze.png'\n",
        "      # get the image path\n",
        "      img_path = os.path.join(base_path_nohaze, img)\n",
        "      # copy the image in the corresponding class folder in the test, validation and train folders\n",
        "      if rn.random() < 0.2:\n",
        "          shutil.copy(img_path, os.path.join(test_path, 'no_haze', new_name))\n",
        "      elif rn.random() < 0.2:\n",
        "          shutil.copy(img_path, os.path.join(val_path, 'no_haze', new_name))\n",
        "      else:\n",
        "          shutil.copy(img_path, os.path.join(train_path, 'no_haze', new_name))"
      ],
      "metadata": {
        "id": "HEEPPQaXXu-2",
        "outputId": "cda71486-5dd6-4b08-b7f4-6479a7567f00",
        "colab": {
          "base_uri": "https://localhost:8080/"
        }
      },
      "execution_count": null,
      "outputs": [
        {
          "output_type": "stream",
          "name": "stderr",
          "text": [
            "Copying images: 100%|██████████| 12600/12600 [15:31<00:00, 13.53it/s]\n"
          ]
        }
      ]
    },
    {
      "cell_type": "markdown",
      "source": [
        "## check distribution"
      ],
      "metadata": {
        "id": "GjS6UkHKYbCk"
      }
    },
    {
      "cell_type": "code",
      "execution_count": null,
      "metadata": {
        "id": "BrcJp6_WUhSm",
        "outputId": "01c35b54-f55e-420b-95d6-c591e73a9496",
        "colab": {
          "base_uri": "https://localhost:8080/"
        }
      },
      "outputs": [
        {
          "output_type": "stream",
          "name": "stdout",
          "text": [
            "La classe no_haze contiene 831 immagini nel test set.\n",
            "La classe no_haze contiene 678 immagini nel validation set.\n",
            "La classe no_haze contiene 2691 immagini nel train set.\n",
            "La classe low contiene 827 immagini nel test set.\n",
            "La classe low contiene 681 immagini nel validation set.\n",
            "La classe low contiene 2692 immagini nel train set.\n",
            "La classe medium contiene 827 immagini nel test set.\n",
            "La classe medium contiene 698 immagini nel validation set.\n",
            "La classe medium contiene 2675 immagini nel train set.\n",
            "La classe high contiene 815 immagini nel test set.\n",
            "La classe high contiene 701 immagini nel validation set.\n",
            "La classe high contiene 2684 immagini nel train set.\n"
          ]
        }
      ],
      "source": [
        "# check if the images have been copied correctly\n",
        "\n",
        "for cl in classes:\n",
        "    print(f\"La classe {cl} contiene {len(os.listdir(os.path.join(test_path, cl)))} immagini nel test set.\")\n",
        "    print(f\"La classe {cl} contiene {len(os.listdir(os.path.join(val_path, cl)))} immagini nel validation set.\")\n",
        "    print(f\"La classe {cl} contiene {len(os.listdir(os.path.join(train_path, cl)))} immagini nel train set.\")"
      ]
    },
    {
      "cell_type": "markdown",
      "metadata": {
        "id": "-JERD8JE5YHe"
      },
      "source": [
        "# Utilities"
      ]
    },
    {
      "cell_type": "code",
      "execution_count": 11,
      "metadata": {
        "colab": {
          "base_uri": "https://localhost:8080/"
        },
        "collapsed": true,
        "id": "33TGEcCA5YHe",
        "outputId": "a103064f-3a8b-4022-d4d6-455d59bc12d9"
      },
      "outputs": [
        {
          "output_type": "stream",
          "name": "stdout",
          "text": [
            "Found 10742 images belonging to 4 classes.\n",
            "Found 3300 images belonging to 4 classes.\n",
            "Found 2758 images belonging to 4 classes.\n"
          ]
        }
      ],
      "source": [
        "vgg16_results_path = os.path.join(models_path, 'VGG16')\n",
        "\n",
        "def set_seed ():\n",
        "\t'''\n",
        "\tset_seed is used to obtain reproducible results using keras during the development phase\n",
        "\t'''\n",
        "\tseed = 10\n",
        "\t# The below is necessary for reproducible results of certain Python hash-based operations.\n",
        "\tos.environ[\"PYTHONHASHSEED\"]=\"0\"\n",
        "\t# The below is necessary for starting Numpy generated random numbers in a well-defined initial state.\n",
        "\tnp.random.seed(seed)\n",
        "\t# The below is necessary for starting core Python generated random numbers in a well-defined state.\n",
        "\trn.seed(seed)\n",
        "\t# The below tf.random.set_seed will make x number generation in TensorFlow have a well-defined initial state.\n",
        "\ttf.random.set_seed(seed)\n",
        "\n",
        "# Definisci le dimensioni delle immagini\n",
        "image_size = 512\n",
        "batch_size = 16\n",
        "\n",
        "# Crea un oggetto ImageDataGenerator per il preprocessing delle immagini\n",
        "data_generator = ImageDataGenerator(rescale=1.0/255.0)\n",
        "\n",
        "# Carica le immagini dal set di addestramento\n",
        "train_generator = data_generator.flow_from_directory(\n",
        "    train_path,\n",
        "    target_size=(image_size, image_size),\n",
        "    batch_size=batch_size,\n",
        "    class_mode='categorical'\n",
        ")\n",
        "\n",
        "# Carica le immagini dal set di test\n",
        "test_generator = data_generator.flow_from_directory(\n",
        "    test_path,\n",
        "    target_size=(image_size, image_size),\n",
        "    batch_size=batch_size,\n",
        "    class_mode='categorical',\n",
        "    shuffle=False\n",
        ")\n",
        "\n",
        "# Carica le immagini dal set di validazione\n",
        "val_generator = data_generator.flow_from_directory(\n",
        "    val_path,\n",
        "    target_size=(image_size, image_size),\n",
        "    batch_size=batch_size,\n",
        "    class_mode='categorical'\n",
        ")\n",
        "\n",
        "\n",
        "def show_training_and_validation_performance(history,path):\n",
        "\t'''\n",
        "\tshow_training_and_validation_performance is used to plot the performances during the training phase\n",
        "\t:param history: object in which are recorded all the events\n",
        "\t'''\n",
        "\tacc = history.history['accuracy']\n",
        "\tval_acc = history.history['val_accuracy']\n",
        "\tloss = history.history['loss']\n",
        "\tval_loss = history.history['val_loss']\n",
        "\n",
        "\tepochs = range(len(acc))\n",
        "\n",
        "\tplt.plot(epochs, acc, 'bo', label='Training accuracy')\n",
        "\tplt.plot(epochs, val_acc, 'b', label='Validation accuracy')\n",
        "\tplt.title('Training and validation accuracy')\n",
        "\tplt.legend()\n",
        "\n",
        "\tplt.figure()\n",
        "\n",
        "\tplt.plot(epochs, loss, 'bo', label='Training loss')\n",
        "\tplt.plot(epochs, val_loss, 'b', label='Validation loss')\n",
        "\tplt.title('Training and validation loss')\n",
        "\tplt.legend()\n",
        "\n",
        "\tplt.savefig(path)\n",
        "\n",
        "\tplt.show()\n",
        "\n",
        "def compile_model (model, optimizer='adam', learning_rate = 0.00001):\n",
        "\t'''\n",
        "\tcompile_model is used to compile the current model\n",
        "\t:param model: model to compile\n",
        "\t:param optimizer: optimizer to be used\n",
        "\t:param learning_rate: learning rate parameter for the optimizer\n",
        "\t'''\n",
        "\tif optimizer == 'adam':\n",
        "\t\tmodel.compile(loss=\"categorical_crossentropy\",\n",
        "\t\toptimizer=optimizers.Adam(learning_rate=learning_rate),\n",
        "\t\tmetrics=[\"accuracy\"])\n",
        "\telif optimizer == 'rmsprop':\n",
        "\t\tmodel.compile(loss=\"categorical_crossentropy\",\n",
        "\t\t\t\t\toptimizer = optimizers.RMSprop(learning_rate=learning_rate),\n",
        "\t\t\t\t\tmetrics=['accuracy'])\n",
        "\tmodel.summary()\n",
        "\n",
        "def run_model (model, type, model_name, epochs = 100, patience=5, monitor='val_loss'):\n",
        "\t'''\n",
        "\trun_model is used to run the current mode\n",
        "\t:param model: model to run\n",
        "\t:param model_name: name given to save the model\n",
        "\t:param type: type of model, CNN, VGG16, ResNet50, InceptionV3\n",
        "\t:param epochs: how many epochs to do\n",
        "\t:param patience: patience value for Early Stopping\n",
        "\t:param monitor: what to monitor for Early Stopping and Model Checkpoint\n",
        "\t'''\n",
        "\t# local save path for the models\n",
        "\tsave_path = os.path.join(models_path, type + '/' + model_name + '.h5')\n",
        "\tcallbacks_list = [\n",
        "\t\t\t\t\tkeras.callbacks.EarlyStopping(monitor=monitor, patience=patience),\n",
        "\t\t\t\t\tkeras.callbacks.ModelCheckpoint(\n",
        "\t\t\t\t\t\tfilepath = save_path,\n",
        "\t\t\t\t\t\tmonitor=monitor,\n",
        "\t\t\t\t\t\tverbose=1,\n",
        "\t\t\t\t\t\tsave_best_only=False,\n",
        "            save_weights_only=False)\n",
        "\t\t\t\t\t]\n",
        "\thistory = model.fit(train_generator,\n",
        "\t\t\t\t\t\tepochs=epochs,\n",
        "\t\t\t\t\t\tvalidation_data=val_generator,\n",
        "\t\t\t\t\t\tcallbacks=callbacks_list)\n",
        "\t# save on Drive only the best model\n",
        "\tshow_training_and_validation_performance(history,os.path.join(models_path, type + '/' + model_name + '_validation.png'))\n",
        "\n",
        "def plot_roc_curve(y_true, y_pred, n_classes, class_labels, model_name, type):\n",
        "\n",
        "    # Converti le etichette di classe in formato binario\n",
        "    lb = LabelBinarizer()\n",
        "    y_true_binary = lb.fit_transform(y_true)\n",
        "\n",
        "    # Calcola i tassi di FPR e TPR per ogni classe\n",
        "    fpr = dict()\n",
        "    tpr = dict()\n",
        "    roc_auc = dict()\n",
        "\n",
        "    for i in range(n_classes):\n",
        "        fpr[i], tpr[i], _ = metrics.roc_curve(y_true_binary[:, i], y_pred[:, i])\n",
        "        roc_auc[i] = metrics.auc(fpr[i], tpr[i])\n",
        "\n",
        "    plt.figure()\n",
        "    colors = ['blue', 'red', 'green', 'purple']  # Colori per le diverse classi\n",
        "\n",
        "    for i, color in zip(range(n_classes), colors):\n",
        "        plt.plot(fpr[i], tpr[i], color=color, label='ROC curve {0} ({1:0.2f}%)'.format(class_labels[i], roc_auc[i]*100))\n",
        "\n",
        "    plt.plot([0, 1], [0, 1], color='navy', linestyle='--')\n",
        "    plt.xlim([0.0, 1.0])\n",
        "    plt.ylim([0.0, 1.0])\n",
        "    plt.xlabel('False Positive Rate')\n",
        "    plt.ylabel('True Positive Rate')\n",
        "    plt.title('ROC curve')\n",
        "    plt.legend(loc=\"lower right\")\n",
        "    plt.savefig(os.path.join(models_path, type + '/' + model_name + '_ROC.png'))\n",
        "    plt.show()\n",
        "\n",
        "def evaluate_model (model, test_generator, model_name, type):\n",
        "\t'''\n",
        "\tevaluate_model is used to plot some statistics about the performance on the test set\n",
        "\t:param model: model to consider\n",
        "\t'''\n",
        "\tlabels_d= ['no_haze', 'low', 'medium', 'high']\n",
        "\n",
        "\t# get predictions\n",
        "\ty_score = model.predict(test_generator)\n",
        "\t# convert predictions to classes\n",
        "\ty_pred = np.argmax(y_score, axis=-1)\n",
        "\t# get true classes\n",
        "\ty_true = test_generator.classes\n",
        "\t# extract class labels\n",
        "\tclass_labels = list(test_generator.class_indices.keys())\n",
        "\n",
        "\tprint(\"Classification report: \")\n",
        "\t# create and show classification report\n",
        "\tprint(metrics.classification_report(y_true, y_pred, target_names=class_labels,digits = 4))\n",
        "\t# save classification report\n",
        "\twith open(os.path.join(models_path, type + '/' + model_name + '_classification_report.txt'), 'w') as f:\n",
        "\t\tf.write(metrics.classification_report(y_true, y_pred, target_names=class_labels,digits = 4))\n",
        "\n",
        "\t# create and show confusion matrix\n",
        "\tcm = confusion_matrix(y_true, y_pred)\n",
        "\tdisp = ConfusionMatrixDisplay(confusion_matrix=cm, display_labels=class_labels)\n",
        "\tdisp.plot(xticks_rotation=45)\n",
        "\n",
        "\t# save confusion matrix\n",
        "\tplt.savefig(os.path.join(models_path, type, model_name + '_confusion_matrix.png'), bbox_inches='tight', pad_inches=0.1)\n",
        "\tplt.show()\n",
        "\n",
        "\tplot_roc_curve(y_true, y_score, 4, class_labels, model_name, type)\n",
        "\n",
        "def clear(model):\n",
        "\tdel model\n",
        "\tK.clear_session()\n",
        "\n",
        "set_seed ()"
      ]
    },
    {
      "cell_type": "markdown",
      "metadata": {
        "id": "V712ExW09hZ9"
      },
      "source": [
        "# Feature Extraction"
      ]
    },
    {
      "cell_type": "markdown",
      "metadata": {
        "id": "pZGNlxO15YHh"
      },
      "source": [
        "## Load VGG16"
      ]
    },
    {
      "cell_type": "code",
      "execution_count": 6,
      "metadata": {
        "colab": {
          "base_uri": "https://localhost:8080/"
        },
        "id": "9de8ei-T5YHh",
        "outputId": "3e832b14-26c1-4be0-9a62-ed825f9ccca7"
      },
      "outputs": [
        {
          "output_type": "stream",
          "name": "stdout",
          "text": [
            "Downloading data from https://storage.googleapis.com/tensorflow/keras-applications/vgg16/vgg16_weights_tf_dim_ordering_tf_kernels_notop.h5\n",
            "58889256/58889256 [==============================] - 2s 0us/step\n",
            "Model: \"vgg16\"\n",
            "_________________________________________________________________\n",
            " Layer (type)                Output Shape              Param #   \n",
            "=================================================================\n",
            " input_1 (InputLayer)        [(None, 512, 512, 3)]     0         \n",
            "                                                                 \n",
            " block1_conv1 (Conv2D)       (None, 512, 512, 64)      1792      \n",
            "                                                                 \n",
            " block1_conv2 (Conv2D)       (None, 512, 512, 64)      36928     \n",
            "                                                                 \n",
            " block1_pool (MaxPooling2D)  (None, 256, 256, 64)      0         \n",
            "                                                                 \n",
            " block2_conv1 (Conv2D)       (None, 256, 256, 128)     73856     \n",
            "                                                                 \n",
            " block2_conv2 (Conv2D)       (None, 256, 256, 128)     147584    \n",
            "                                                                 \n",
            " block2_pool (MaxPooling2D)  (None, 128, 128, 128)     0         \n",
            "                                                                 \n",
            " block3_conv1 (Conv2D)       (None, 128, 128, 256)     295168    \n",
            "                                                                 \n",
            " block3_conv2 (Conv2D)       (None, 128, 128, 256)     590080    \n",
            "                                                                 \n",
            " block3_conv3 (Conv2D)       (None, 128, 128, 256)     590080    \n",
            "                                                                 \n",
            " block3_pool (MaxPooling2D)  (None, 64, 64, 256)       0         \n",
            "                                                                 \n",
            " block4_conv1 (Conv2D)       (None, 64, 64, 512)       1180160   \n",
            "                                                                 \n",
            " block4_conv2 (Conv2D)       (None, 64, 64, 512)       2359808   \n",
            "                                                                 \n",
            " block4_conv3 (Conv2D)       (None, 64, 64, 512)       2359808   \n",
            "                                                                 \n",
            " block4_pool (MaxPooling2D)  (None, 32, 32, 512)       0         \n",
            "                                                                 \n",
            " block5_conv1 (Conv2D)       (None, 32, 32, 512)       2359808   \n",
            "                                                                 \n",
            " block5_conv2 (Conv2D)       (None, 32, 32, 512)       2359808   \n",
            "                                                                 \n",
            " block5_conv3 (Conv2D)       (None, 32, 32, 512)       2359808   \n",
            "                                                                 \n",
            " block5_pool (MaxPooling2D)  (None, 16, 16, 512)       0         \n",
            "                                                                 \n",
            "=================================================================\n",
            "Total params: 14,714,688\n",
            "Trainable params: 14,714,688\n",
            "Non-trainable params: 0\n",
            "_________________________________________________________________\n"
          ]
        }
      ],
      "source": [
        "# Carica il modello VGG16 pre-addestrato, senza l'ultimo strato fully connected\n",
        "base_model = VGG16(weights='imagenet', include_top=False, input_shape=(image_size, image_size, 3))\n",
        "base_model.summary()"
      ]
    },
    {
      "cell_type": "markdown",
      "metadata": {
        "id": "04WaIfXZZlbm"
      },
      "source": [
        "## Experiment 1\n",
        "VGG16\n"
      ]
    },
    {
      "cell_type": "code",
      "execution_count": 15,
      "metadata": {
        "id": "3CTa6bC69hZ-",
        "colab": {
          "base_uri": "https://localhost:8080/",
          "height": 1000
        },
        "outputId": "8c41acfc-9901-483e-cef0-f3c59326115e"
      },
      "outputs": [
        {
          "output_type": "stream",
          "name": "stdout",
          "text": [
            "Model: \"model_6\"\n",
            "_________________________________________________________________\n",
            " Layer (type)                Output Shape              Param #   \n",
            "=================================================================\n",
            " input_8 (InputLayer)        [(None, 512, 512, 3)]     0         \n",
            "                                                                 \n",
            " vgg16 (Functional)          (None, 16, 16, 512)       14714688  \n",
            "                                                                 \n",
            " flatten (Flatten)           (None, 131072)            0         \n",
            "                                                                 \n",
            " dense_18 (Dense)            (None, 512)               67109376  \n",
            "                                                                 \n",
            " dropout_12 (Dropout)        (None, 512)               0         \n",
            "                                                                 \n",
            " dense_19 (Dense)            (None, 256)               131328    \n",
            "                                                                 \n",
            " dropout_13 (Dropout)        (None, 256)               0         \n",
            "                                                                 \n",
            " dense_20 (Dense)            (None, 4)                 1028      \n",
            "                                                                 \n",
            "=================================================================\n",
            "Total params: 81,956,420\n",
            "Trainable params: 67,241,732\n",
            "Non-trainable params: 14,714,688\n",
            "_________________________________________________________________\n",
            "Epoch 1/100\n",
            "672/672 [==============================] - ETA: 0s - loss: 1.0354 - accuracy: 0.5094\n",
            "Epoch 1: saving model to /content/drive/MyDrive/Haze-Fog-suppression/classifier/dataset/models/VGG16/VGG16_model.h5\n",
            "672/672 [==============================] - 385s 570ms/step - loss: 1.0354 - accuracy: 0.5094 - val_loss: 0.7414 - val_accuracy: 0.7531\n",
            "Epoch 2/100\n",
            "672/672 [==============================] - ETA: 0s - loss: 0.7357 - accuracy: 0.6688\n",
            "Epoch 2: saving model to /content/drive/MyDrive/Haze-Fog-suppression/classifier/dataset/models/VGG16/VGG16_model.h5\n",
            "672/672 [==============================] - 381s 567ms/step - loss: 0.7357 - accuracy: 0.6688 - val_loss: 0.5714 - val_accuracy: 0.7643\n",
            "Epoch 3/100\n",
            "672/672 [==============================] - ETA: 0s - loss: 0.5814 - accuracy: 0.7608\n",
            "Epoch 3: saving model to /content/drive/MyDrive/Haze-Fog-suppression/classifier/dataset/models/VGG16/VGG16_model.h5\n",
            "672/672 [==============================] - 388s 578ms/step - loss: 0.5814 - accuracy: 0.7608 - val_loss: 0.4478 - val_accuracy: 0.8713\n",
            "Epoch 4/100\n",
            "672/672 [==============================] - ETA: 0s - loss: 0.4803 - accuracy: 0.8102\n",
            "Epoch 4: saving model to /content/drive/MyDrive/Haze-Fog-suppression/classifier/dataset/models/VGG16/VGG16_model.h5\n",
            "672/672 [==============================] - 390s 580ms/step - loss: 0.4803 - accuracy: 0.8102 - val_loss: 0.3576 - val_accuracy: 0.8952\n",
            "Epoch 5/100\n",
            "672/672 [==============================] - ETA: 0s - loss: 0.4050 - accuracy: 0.8524\n",
            "Epoch 5: saving model to /content/drive/MyDrive/Haze-Fog-suppression/classifier/dataset/models/VGG16/VGG16_model.h5\n",
            "672/672 [==============================] - 390s 581ms/step - loss: 0.4050 - accuracy: 0.8524 - val_loss: 0.2971 - val_accuracy: 0.9199\n",
            "Epoch 6/100\n",
            "672/672 [==============================] - ETA: 0s - loss: 0.3281 - accuracy: 0.8881\n",
            "Epoch 6: saving model to /content/drive/MyDrive/Haze-Fog-suppression/classifier/dataset/models/VGG16/VGG16_model.h5\n",
            "672/672 [==============================] - 376s 557ms/step - loss: 0.3281 - accuracy: 0.8881 - val_loss: 0.2373 - val_accuracy: 0.9427\n",
            "Epoch 7/100\n",
            "672/672 [==============================] - ETA: 0s - loss: 0.2714 - accuracy: 0.9115\n",
            "Epoch 7: saving model to /content/drive/MyDrive/Haze-Fog-suppression/classifier/dataset/models/VGG16/VGG16_model.h5\n",
            "672/672 [==============================] - 393s 585ms/step - loss: 0.2714 - accuracy: 0.9115 - val_loss: 0.2136 - val_accuracy: 0.9463\n",
            "Epoch 8/100\n",
            "672/672 [==============================] - ETA: 0s - loss: 0.2325 - accuracy: 0.9296\n",
            "Epoch 8: saving model to /content/drive/MyDrive/Haze-Fog-suppression/classifier/dataset/models/VGG16/VGG16_model.h5\n",
            "672/672 [==============================] - 400s 595ms/step - loss: 0.2325 - accuracy: 0.9296 - val_loss: 0.1700 - val_accuracy: 0.9550\n",
            "Epoch 9/100\n",
            "672/672 [==============================] - ETA: 0s - loss: 0.1986 - accuracy: 0.9422\n",
            "Epoch 9: saving model to /content/drive/MyDrive/Haze-Fog-suppression/classifier/dataset/models/VGG16/VGG16_model.h5\n",
            "672/672 [==============================] - 379s 562ms/step - loss: 0.1986 - accuracy: 0.9422 - val_loss: 0.1541 - val_accuracy: 0.9569\n",
            "Epoch 10/100\n",
            "672/672 [==============================] - ETA: 0s - loss: 0.1620 - accuracy: 0.9538\n",
            "Epoch 10: saving model to /content/drive/MyDrive/Haze-Fog-suppression/classifier/dataset/models/VGG16/VGG16_model.h5\n",
            "672/672 [==============================] - 385s 572ms/step - loss: 0.1620 - accuracy: 0.9538 - val_loss: 0.1370 - val_accuracy: 0.9623\n",
            "Epoch 11/100\n",
            "672/672 [==============================] - ETA: 0s - loss: 0.1365 - accuracy: 0.9629\n",
            "Epoch 11: saving model to /content/drive/MyDrive/Haze-Fog-suppression/classifier/dataset/models/VGG16/VGG16_model.h5\n",
            "672/672 [==============================] - 377s 561ms/step - loss: 0.1365 - accuracy: 0.9629 - val_loss: 0.1237 - val_accuracy: 0.9641\n",
            "Epoch 12/100\n",
            "672/672 [==============================] - ETA: 0s - loss: 0.1232 - accuracy: 0.9653\n",
            "Epoch 12: saving model to /content/drive/MyDrive/Haze-Fog-suppression/classifier/dataset/models/VGG16/VGG16_model.h5\n",
            "672/672 [==============================] - 379s 562ms/step - loss: 0.1232 - accuracy: 0.9653 - val_loss: 0.1126 - val_accuracy: 0.9627\n",
            "Epoch 13/100\n",
            "672/672 [==============================] - ETA: 0s - loss: 0.0983 - accuracy: 0.9768\n",
            "Epoch 13: saving model to /content/drive/MyDrive/Haze-Fog-suppression/classifier/dataset/models/VGG16/VGG16_model.h5\n",
            "672/672 [==============================] - 366s 545ms/step - loss: 0.0983 - accuracy: 0.9768 - val_loss: 0.1086 - val_accuracy: 0.9685\n",
            "Epoch 14/100\n",
            "672/672 [==============================] - ETA: 0s - loss: 0.0910 - accuracy: 0.9763\n",
            "Epoch 14: saving model to /content/drive/MyDrive/Haze-Fog-suppression/classifier/dataset/models/VGG16/VGG16_model.h5\n",
            "672/672 [==============================] - 384s 572ms/step - loss: 0.0910 - accuracy: 0.9763 - val_loss: 0.0910 - val_accuracy: 0.9724\n",
            "Epoch 15/100\n",
            "672/672 [==============================] - ETA: 0s - loss: 0.0797 - accuracy: 0.9793\n",
            "Epoch 15: saving model to /content/drive/MyDrive/Haze-Fog-suppression/classifier/dataset/models/VGG16/VGG16_model.h5\n",
            "672/672 [==============================] - 390s 578ms/step - loss: 0.0797 - accuracy: 0.9793 - val_loss: 0.0924 - val_accuracy: 0.9735\n",
            "Epoch 16/100\n",
            "672/672 [==============================] - ETA: 0s - loss: 0.0677 - accuracy: 0.9839\n",
            "Epoch 16: saving model to /content/drive/MyDrive/Haze-Fog-suppression/classifier/dataset/models/VGG16/VGG16_model.h5\n",
            "672/672 [==============================] - 387s 575ms/step - loss: 0.0677 - accuracy: 0.9839 - val_loss: 0.0836 - val_accuracy: 0.9735\n",
            "Epoch 17/100\n",
            "672/672 [==============================] - ETA: 0s - loss: 0.0616 - accuracy: 0.9844\n",
            "Epoch 17: saving model to /content/drive/MyDrive/Haze-Fog-suppression/classifier/dataset/models/VGG16/VGG16_model.h5\n",
            "672/672 [==============================] - 382s 569ms/step - loss: 0.0616 - accuracy: 0.9844 - val_loss: 0.0973 - val_accuracy: 0.9692\n",
            "Epoch 18/100\n",
            "672/672 [==============================] - ETA: 0s - loss: 0.0575 - accuracy: 0.9868\n",
            "Epoch 18: saving model to /content/drive/MyDrive/Haze-Fog-suppression/classifier/dataset/models/VGG16/VGG16_model.h5\n",
            "672/672 [==============================] - 385s 573ms/step - loss: 0.0575 - accuracy: 0.9868 - val_loss: 0.0815 - val_accuracy: 0.9739\n",
            "Epoch 19/100\n",
            "672/672 [==============================] - ETA: 0s - loss: 0.0472 - accuracy: 0.9893\n",
            "Epoch 19: saving model to /content/drive/MyDrive/Haze-Fog-suppression/classifier/dataset/models/VGG16/VGG16_model.h5\n",
            "672/672 [==============================] - 371s 552ms/step - loss: 0.0472 - accuracy: 0.9893 - val_loss: 0.0817 - val_accuracy: 0.9757\n",
            "Epoch 20/100\n",
            "672/672 [==============================] - ETA: 0s - loss: 0.0480 - accuracy: 0.9877\n",
            "Epoch 20: saving model to /content/drive/MyDrive/Haze-Fog-suppression/classifier/dataset/models/VGG16/VGG16_model.h5\n",
            "672/672 [==============================] - 388s 578ms/step - loss: 0.0480 - accuracy: 0.9877 - val_loss: 0.0765 - val_accuracy: 0.9761\n",
            "Epoch 21/100\n",
            "672/672 [==============================] - ETA: 0s - loss: 0.0404 - accuracy: 0.9913\n",
            "Epoch 21: saving model to /content/drive/MyDrive/Haze-Fog-suppression/classifier/dataset/models/VGG16/VGG16_model.h5\n",
            "672/672 [==============================] - 394s 584ms/step - loss: 0.0404 - accuracy: 0.9913 - val_loss: 0.0784 - val_accuracy: 0.9753\n",
            "Epoch 22/100\n",
            "672/672 [==============================] - ETA: 0s - loss: 0.0367 - accuracy: 0.9912\n",
            "Epoch 22: saving model to /content/drive/MyDrive/Haze-Fog-suppression/classifier/dataset/models/VGG16/VGG16_model.h5\n",
            "672/672 [==============================] - 388s 576ms/step - loss: 0.0367 - accuracy: 0.9912 - val_loss: 0.0766 - val_accuracy: 0.9750\n",
            "Epoch 23/100\n",
            "672/672 [==============================] - ETA: 0s - loss: 0.0331 - accuracy: 0.9926\n",
            "Epoch 23: saving model to /content/drive/MyDrive/Haze-Fog-suppression/classifier/dataset/models/VGG16/VGG16_model.h5\n",
            "672/672 [==============================] - 386s 575ms/step - loss: 0.0331 - accuracy: 0.9926 - val_loss: 0.0778 - val_accuracy: 0.9757\n",
            "Epoch 24/100\n",
            "672/672 [==============================] - ETA: 0s - loss: 0.0309 - accuracy: 0.9923\n",
            "Epoch 24: saving model to /content/drive/MyDrive/Haze-Fog-suppression/classifier/dataset/models/VGG16/VGG16_model.h5\n",
            "672/672 [==============================] - 379s 564ms/step - loss: 0.0309 - accuracy: 0.9923 - val_loss: 0.0638 - val_accuracy: 0.9790\n",
            "Epoch 25/100\n",
            "672/672 [==============================] - ETA: 0s - loss: 0.0310 - accuracy: 0.9914\n",
            "Epoch 25: saving model to /content/drive/MyDrive/Haze-Fog-suppression/classifier/dataset/models/VGG16/VGG16_model.h5\n",
            "672/672 [==============================] - 374s 557ms/step - loss: 0.0310 - accuracy: 0.9914 - val_loss: 0.0675 - val_accuracy: 0.9793\n",
            "Epoch 26/100\n",
            "672/672 [==============================] - ETA: 0s - loss: 0.0211 - accuracy: 0.9960\n",
            "Epoch 26: saving model to /content/drive/MyDrive/Haze-Fog-suppression/classifier/dataset/models/VGG16/VGG16_model.h5\n",
            "672/672 [==============================] - 388s 577ms/step - loss: 0.0211 - accuracy: 0.9960 - val_loss: 0.0665 - val_accuracy: 0.9797\n",
            "Epoch 27/100\n",
            "672/672 [==============================] - ETA: 0s - loss: 0.0245 - accuracy: 0.9943\n",
            "Epoch 27: saving model to /content/drive/MyDrive/Haze-Fog-suppression/classifier/dataset/models/VGG16/VGG16_model.h5\n",
            "672/672 [==============================] - 397s 589ms/step - loss: 0.0245 - accuracy: 0.9943 - val_loss: 0.0749 - val_accuracy: 0.9750\n",
            "Epoch 28/100\n",
            "672/672 [==============================] - ETA: 0s - loss: 0.0283 - accuracy: 0.9925\n",
            "Epoch 28: saving model to /content/drive/MyDrive/Haze-Fog-suppression/classifier/dataset/models/VGG16/VGG16_model.h5\n",
            "672/672 [==============================] - 392s 582ms/step - loss: 0.0283 - accuracy: 0.9925 - val_loss: 0.0884 - val_accuracy: 0.9728\n",
            "Epoch 29/100\n",
            "672/672 [==============================] - ETA: 0s - loss: 0.0217 - accuracy: 0.9950\n",
            "Epoch 29: saving model to /content/drive/MyDrive/Haze-Fog-suppression/classifier/dataset/models/VGG16/VGG16_model.h5\n",
            "672/672 [==============================] - 398s 593ms/step - loss: 0.0217 - accuracy: 0.9950 - val_loss: 0.0792 - val_accuracy: 0.9772\n"
          ]
        },
        {
          "output_type": "display_data",
          "data": {
            "text/plain": [
              "<Figure size 640x480 with 1 Axes>"
            ],
            "image/png": "[encoded data removed]"
          },
          "metadata": {}
        },
        {
          "output_type": "display_data",
          "data": {
            "text/plain": [
              "<Figure size 640x480 with 1 Axes>"
            ],
            "image/png": "[encoded data removed]"
          },
          "metadata": {}
        },
        {
          "output_type": "stream",
          "name": "stdout",
          "text": [
            "207/207 [==============================] - 1560s 8s/step\n",
            "Classification report: \n",
            "              precision    recall  f1-score   support\n",
            "\n",
            "        high     0.9924    0.9595    0.9757       815\n",
            "         low     0.9723    0.9746    0.9734       827\n",
            "      medium     0.9558    0.9674    0.9615       827\n",
            "     no_haze     0.9775    0.9952    0.9863       831\n",
            "\n",
            "    accuracy                         0.9742      3300\n",
            "   macro avg     0.9745    0.9742    0.9742      3300\n",
            "weighted avg     0.9744    0.9742    0.9742      3300\n",
            "\n"
          ]
        },
        {
          "output_type": "display_data",
          "data": {
            "text/plain": [
              "<Figure size 640x480 with 2 Axes>"
            ],
            "image/png": "[encoded data removed]"
          },
          "metadata": {}
        },
        {
          "output_type": "display_data",
          "data": {
            "text/plain": [
              "<Figure size 640x480 with 1 Axes>"
            ],
            "image/png": "[encoded data removed]"
          },
          "metadata": {}
        }
      ],
      "source": [
        "# Aggiungi un nuovo strato fully connected all'ultimo layer di VGG16\n",
        "inputs = keras.Input(shape=(image_size, image_size, 3))\n",
        "x = base_model(inputs)\n",
        "x = layers.Flatten()(x)\n",
        "x = layers.Dense(512, activation=\"relu\")(x)\n",
        "x = layers.Dropout(0.3)(x)\n",
        "x = layers.Dense(256, activation=\"relu\")(x)\n",
        "x = layers.Dropout(0.5)(x)\n",
        "outputs = layers.Dense(4, activation=\"softmax\")(x) # 4 classi\n",
        "model = keras.Model(inputs=inputs, outputs=outputs)\n",
        "\n",
        "# Congela i pesi del modello base, così da mantenere l'informazione appresa\n",
        "for layer in base_model.layers:\n",
        "    layer.trainable = False\n",
        "\n",
        "#model = keras.models.load_model(os.path.join(models_path, 'VGG16' + '/' + 'VGG16_model' + '.h5'))\n",
        "\n",
        "# Compila il modello\n",
        "compile_model(model)\n",
        "\n",
        "# Addestra il modello\n",
        "run_model(model,\"VGG16\",\"VGG16_model\")\n",
        "\n",
        "# Valuta il modello\n",
        "evaluate_model(model,test_generator,\"VGG16_model\",\"VGG16\")\n"
      ]
    }
  ],
  "metadata": {
    "accelerator": "GPU",
    "colab": {
      "gpuType": "V100",
      "provenance": [],
      "machine_shape": "hm"
    },
    "kernelspec": {
      "display_name": "Python 3",
      "name": "python3"
    },
    "language_info": {
      "codemirror_mode": {
        "name": "ipython",
        "version": 3
      },
      "file_extension": ".py",
      "mimetype": "text/x-python",
      "name": "python",
      "nbconvert_exporter": "python",
      "pygments_lexer": "ipython3",
      "version": "3.9.16"
    },
    "orig_nbformat": 4
  },
  "nbformat": 4,
  "nbformat_minor": 0
}